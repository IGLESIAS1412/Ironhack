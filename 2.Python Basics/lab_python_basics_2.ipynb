{
 "cells": [
  {
   "cell_type": "markdown",
   "id": "aef01e5a",
   "metadata": {
    "id": "aef01e5a"
   },
   "source": [
    "# Lambdas, udef, filter, map"
   ]
  },
  {
   "cell_type": "markdown",
   "id": "3131bdb8",
   "metadata": {
    "id": "3131bdb8"
   },
   "source": [
    "The goverment made a socilogical study of citizens at mid-40's. They gathered the following data:"
   ]
  },
  {
   "cell_type": "code",
   "execution_count": 22,
   "id": "70d86ca7",
   "metadata": {
    "id": "70d86ca7"
   },
   "outputs": [],
   "source": [
    "citicens = [{ 'First Name': 'Preston' , 'Last Name': 'Cunningham', 'Age': 49 , 'Education': 'Doctoral', 'Occupation':' Teacher' ,'Experience (Years)': 6, 'Salary': 62499}, \n",
    " { 'First Name': 'Madaline', 'Last Name': 'Farrell', 'Age': 41, 'Education': 'Bachelor', 'Occupation': 'Insurer','Experience (Years)': 16, 'Salary': 50190},\n",
    " { 'First Name': 'Eleanor', 'Last Name': 'Carter', 'Age': 49, 'Education': 'Lower secondary', 'Occupation': 'Programmer','Experience (Years)': 18, 'Salary': 189716},\n",
    " { 'First Name': 'Adison', 'Last Name': 'Hall', 'Age': 42 , 'Education': 'Bachelor', 'Occupation': 'Florist','Experience (Years)': 21, 'Salary': 34517},\n",
    " { 'First Name': 'Grace', 'Last Name': 'Cooper', 'Age': 49, 'Education': 'Master', 'Occupation': 'Singer','Experience (Years)': 9, 'Salary': 51994},\n",
    " { 'First Name': 'Alford', 'Last Name': 'Kelley', 'Age': 49, 'Education': 'Bachelor', 'Occupation': 'Aeroplane Pilot','Experience (Years)': 9, 'Salary': 170466},\n",
    " { 'First Name': 'Vincent', 'Last Name': 'Anderson', 'Age': 47, 'Education': 'Master', 'Occupation': 'Botanist','Experience (Years)': 6, 'Salary': 71617},\n",
    " { 'First Name': 'Myra', 'Last Name': 'Wright', 'Age': 45, 'Education': 'Master', 'Occupation': 'Geologist' ,'Experience (Years)': 18, 'Salary': 48786},\n",
    " { 'First Name': 'Chester', 'Last Name':'Bennett', 'Age': 42, 'Education': 'Doctoral', 'Occupation': 'Astronomer','Experience (Years)': 13, 'Salary': 44826},\n",
    " { 'First Name': 'Blake', 'Last Name': 'Tucker', 'Age': 42, 'Education': 'Doctoral', 'Occupation': 'Firefighter','Experience (Years)': 21, 'Salary': 36761},\n",
    " { 'First Name': 'Paige', 'Last Name': 'Ryan', 'Age': 43, 'Education': 'Primary', 'Occupation': 'Fine Artist','Experience (Years)': 19, 'Salary': 28181},\n",
    " { 'First Name': 'Natalie', 'Last Name': 'Ellis', 'Age': 45, 'Education': 'Bachelor', 'Occupation': 'Baker','Experience (Years)': 0, 'Salary': 31194},\n",
    " { 'First Name': 'Martin', 'Last Name': 'Thompson', 'Age': 47, 'Education': 'Bachelor', 'Occupation': 'Journalist','Experience (Years)': 21, 'Salary': 90183},\n",
    " { 'First Name': 'Alan', 'Last Name': 'Sullivan', 'Age': 46, 'Education': 'Doctoral', 'Occupation': 'Singer','Experience (Years)': 2, 'Salary': 18440},\n",
    " { 'First Name': 'Inga', 'Last Name': 'Bergman', 'Age': 41, 'Education': 'Bachelor', 'Occupation': 'Producer','Experience (Years)': 22, 'Salary': 80029},\n",
    " { 'First Name': 'Freddy', 'Last Name': 'Brown', 'Age': 48, 'Education': 'Bachelor', 'Occupation': 'Economist','Experience (Years)': 18, 'Salary': 146217},\n",
    " { 'First Name': 'Adelaide', 'Last Name': 'Farrell', 'Age': 42, 'Education': 'Bachelor', 'Occupation': 'Mechanic','Experience (Years)': 9, 'Salary':19414},\n",
    " { 'First Name': 'Luke', 'Last Name': 'Cooper', 'Age': 40, 'Education': 'Upper secondary', 'Occupation': 'Producer','Experience (Years)': 17, 'Salary': 160541},\n",
    " { 'First Name': 'Sofia', 'Last Name': 'Hall', 'Age': 41, 'Education': 'Doctoral', 'Occupation': 'Baker','Experience (Years)': 1, 'Salary': 25904},\n",
    " { 'First Name': 'Ashton', 'Last Name': 'Kelly', 'Age': 49, 'Education': 'Master', 'Occupation': 'Chef','Experience (Years)': 6, 'Salary': 95533}\n",
    "]"
   ]
  },
  {
   "cell_type": "markdown",
   "id": "d9724b4c",
   "metadata": {
    "id": "d9724b4c"
   },
   "source": [
    "The goverment wants to know some things about this sample of citizens."
   ]
  },
  {
   "cell_type": "markdown",
   "id": "de46f18a",
   "metadata": {
    "id": "de46f18a"
   },
   "source": [
    "## Exercise 1:\n",
    "\n",
    "1. Create a user defined function to compute the mean of a list of numbers.\n",
    "2. Use python code to store the ages of the citizens inside a list.\n",
    "3. Use your function to compute the mean age (round the mean age to one decimal) using `round()`\n",
    "\n",
    "Expected result:\n",
    "\n",
    "```python\n",
    "\"The mean age of the citizens is: average_age years\"\n",
    "```\n",
    "\n",
    "replacing `average_age` by the correspoding value."
   ]
  },
  {
   "cell_type": "code",
   "execution_count": 80,
   "id": "933521ed",
   "metadata": {
    "scrolled": true
   },
   "outputs": [
    {
     "name": "stdout",
     "output_type": "stream",
     "text": [
      "La media de edad es de: 45 años\n"
     ]
    }
   ],
   "source": [
    "def Sacar_edad (citicens):\n",
    "    lista_edad=[]\n",
    "    for dic in citicens:\n",
    "        lista_edad.append(dic['Age'])\n",
    "                \n",
    "    return lista_edad\n",
    "\n",
    "def mean_age(lista_edad):\n",
    "    suma=0\n",
    "    for i in lista_edad:\n",
    "        suma += i\n",
    "    mean= suma/len(lista_edad)\n",
    "    return round(mean)\n",
    "\n",
    "\n",
    "lista_edad=Sacar_edad(citicens)\n",
    "mean_age = mean_age(lista_edad)\n",
    "print(\"La media de edad es de:\", mean_age, \"años\")"
   ]
  },
  {
   "cell_type": "markdown",
   "id": "67b16e40",
   "metadata": {
    "id": "67b16e40"
   },
   "source": [
    "# Exercise 2:\n",
    "\n",
    "1. What are the unique educational levels?  \n",
    "2. How many unique educational levels are?\n",
    "3. What are the unique ocupations?\n",
    "4. How many unique ocupations are?"
   ]
  },
  {
   "cell_type": "code",
   "execution_count": 116,
   "id": "d5916643",
   "metadata": {},
   "outputs": [
    {
     "name": "stdout",
     "output_type": "stream",
     "text": [
      "1) What are the unique educational levels?: ['Primary', 'Lower secondary', 'Master', 'Upper secondary', 'Bachelor', 'Doctoral']\n",
      "2) How many unique educational levels are?:  6\n",
      "3) What are the unique ocupations?: ['Economist', 'Fine Artist', 'Botanist', 'Baker', 'Geologist', 'Insurer', 'Producer', ' Teacher', 'Astronomer', 'Firefighter', 'Programmer', 'Singer', 'Chef', 'Mechanic', 'Aeroplane Pilot', 'Journalist', 'Florist']\n",
      "4) How many unique educational levels are?:  17\n"
     ]
    }
   ],
   "source": [
    "def unique_ed_levels (citicens):\n",
    "    lista_ed=[]\n",
    "    for i in citicens:\n",
    "        lista_ed.append(i['Education'])\n",
    "    lista_eds=set(lista_ed)\n",
    "    return lista_eds\n",
    "def unique_o(citicens):\n",
    "    lista_o=[]\n",
    "    for i in citicens:\n",
    "        lista_o.append(i['Occupation'])\n",
    "    lista_os=set(lista_o)\n",
    "    return lista_os\n",
    "unique_ed_levels = list(unique_ed_levels(citicens))\n",
    "unique_o = list(unique_o(citicens))\n",
    "print(\"1) What are the unique educational levels?:\", unique_ed_levels)\n",
    "print(\"2) How many unique educational levels are?: \",len(unique_ed_levels))\n",
    "print(\"3) What are the unique ocupations?:\", unique_o)\n",
    "print(\"4) How many unique educational levels are?: \",len(unique_o))"
   ]
  },
  {
   "cell_type": "markdown",
   "id": "42d09af6",
   "metadata": {
    "id": "42d09af6"
   },
   "source": [
    "# Exercise 3:\n",
    "\n",
    "1. Provide a new list in which avery element is another dictionary which only contains:\n",
    "\n",
    "* 'First Name'\n",
    "* 'Last Name'\n",
    "* and at which age they started working?\n",
    "   ( substract from the age the years of experience )\n",
    "\n",
    "Expected output:\n",
    "\n",
    "```python\n",
    "[{ 'First Name': name, 'Last Name': last_name,'Starting age': 27},\n",
    " ...\n",
    "]\n",
    "```"
   ]
  },
  {
   "cell_type": "code",
   "execution_count": 174,
   "id": "b3f426eb",
   "metadata": {},
   "outputs": [
    {
     "name": "stdout",
     "output_type": "stream",
     "text": [
      "[{'First Name': 'Preston', 'Last Name': 'Cunningham', 'Starting age': 43}, {'First Name': 'Madaline', 'Last Name': 'Farrell', 'Starting age': 25}, {'First Name': 'Eleanor', 'Last Name': 'Carter', 'Starting age': 31}, {'First Name': 'Adison', 'Last Name': 'Hall', 'Starting age': 21}, {'First Name': 'Grace', 'Last Name': 'Cooper', 'Starting age': 40}, {'First Name': 'Alford', 'Last Name': 'Kelley', 'Starting age': 40}, {'First Name': 'Vincent', 'Last Name': 'Anderson', 'Starting age': 41}, {'First Name': 'Myra', 'Last Name': 'Wright', 'Starting age': 27}, {'First Name': 'Chester', 'Last Name': 'Bennett', 'Starting age': 29}, {'First Name': 'Blake', 'Last Name': 'Tucker', 'Starting age': 21}, {'First Name': 'Paige', 'Last Name': 'Ryan', 'Starting age': 24}, {'First Name': 'Natalie', 'Last Name': 'Ellis', 'Starting age': 45}, {'First Name': 'Martin', 'Last Name': 'Thompson', 'Starting age': 26}, {'First Name': 'Alan', 'Last Name': 'Sullivan', 'Starting age': 44}, {'First Name': 'Inga', 'Last Name': 'Bergman', 'Starting age': 19}, {'First Name': 'Freddy', 'Last Name': 'Brown', 'Starting age': 30}, {'First Name': 'Adelaide', 'Last Name': 'Farrell', 'Starting age': 33}, {'First Name': 'Luke', 'Last Name': 'Cooper', 'Starting age': 23}, {'First Name': 'Sofia', 'Last Name': 'Hall', 'Starting age': 40}, {'First Name': 'Ashton', 'Last Name': 'Kelly', 'Starting age': 43}]\n"
     ]
    }
   ],
   "source": [
    "def LISTAS (citicens):\n",
    "    lista_N=[]\n",
    "    lista_S=[]\n",
    "    lista_A=[]\n",
    "    lista_E=[]\n",
    "    lista_W=[]\n",
    "    for i in citicens:\n",
    "        lista_N.append(i['First Name'])\n",
    "        lista_S.append(i['Last Name'])\n",
    "        lista_A.append(i['Age'])\n",
    "        lista_E.append(i['Experience (Years)'])\n",
    "        \n",
    "    lista_W = list(map(lambda x,y: x-y ,lista_A,lista_E))\n",
    "    \n",
    "    return lista_N, lista_S, lista_W\n",
    "\n",
    "lista_N = LISTAS(citicens)[0]\n",
    "lista_S = LISTAS(citicens)[1]\n",
    "lista_W =LISTAS(citicens)[2]\n",
    "newdic=[]\n",
    "for i,j,k in zip(lista_N, lista_S, lista_W):\n",
    "   \n",
    "    dicprov={}\n",
    "    dicprov.update({'First Name': i , 'Last Name' : j , 'Starting age' : k})\n",
    "    newdic.append(dicprov)\n",
    "            \n",
    "print(newdic)\n",
    "    "
   ]
  },
  {
   "cell_type": "markdown",
   "id": "a1369045",
   "metadata": {
    "id": "a1369045"
   },
   "source": [
    "# Exercise 4:\n",
    "\n",
    "1. Can you provide a dictionary which contains **unique** `Education` levels and the corresponding mean salary?\n",
    "2. Do the same but by `Occupation`\n",
    "\n",
    "Expected outputs:\n",
    "\n",
    "```python\n",
    "{'Doctoral': mean_salary_doctorals,\n",
    " 'Bachelor': mean_salaty_bachelors,\n",
    "...}\n",
    "```\n",
    "\n",
    "```python\n",
    "{'Teacher': mean_salary_teachers,\n",
    " 'Insurer': mean_salaty_insurers,\n",
    "...}\n",
    "````\n",
    "\n",
    "**CAVEAT!!** The statement says: UNIQUE!!!"
   ]
  },
  {
   "cell_type": "code",
   "execution_count": null,
   "id": "651ef728",
   "metadata": {},
   "outputs": [],
   "source": []
  },
  {
   "cell_type": "markdown",
   "id": "751b6315",
   "metadata": {
    "id": "751b6315"
   },
   "source": [
    "# Exercise 5:\n",
    "\n",
    "1. Use a `lambda` function and `filter` to keep only citizens with 'Doctoral' educational level.\n",
    "2. Use a user defined function to obtain the same output"
   ]
  },
  {
   "cell_type": "markdown",
   "id": "71432147",
   "metadata": {
    "id": "71432147"
   },
   "source": [
    "The output in both cases should be:\n",
    "\n",
    "```python\n",
    "[{'First Name': 'Preston',\n",
    "  'Last Name': 'Cunningham',\n",
    "  'Age': 49,\n",
    "  'Education': 'Doctoral',\n",
    "  'Occupation': ' Teacher',\n",
    "  'Experience (Years)': 6,\n",
    "  'Salary': 62499},\n",
    " {'First Name': 'Chester',\n",
    "  'Last Name': 'Bennett',\n",
    "  'Age': 42,\n",
    "  'Education': 'Doctoral',\n",
    "  'Occupation': 'Astronomer',\n",
    "  'Experience (Years)': 13,\n",
    "  'Salary': 44826},\n",
    " {'First Name': 'Blake',\n",
    "  'Last Name': 'Tucker',\n",
    "  'Age': 42,\n",
    "  'Education': 'Doctoral',\n",
    "  'Occupation': 'Firefighter',\n",
    "  'Experience (Years)': 21,\n",
    "  'Salary': 36761},\n",
    " {'First Name': 'Alan',\n",
    "  'Last Name': 'Sullivan',\n",
    "  'Age': 46,\n",
    "  'Education': 'Doctoral',\n",
    "  'Occupation': 'Singer',\n",
    "  'Experience (Years)': 2,\n",
    "  'Salary': 18440},\n",
    " {'First Name': 'Sofia',\n",
    "  'Last Name': 'Hall',\n",
    "  'Age': 41,\n",
    "  'Education': 'Doctoral',\n",
    "  'Occupation': 'Baker',\n",
    "  'Experience (Years)': 1,\n",
    "  'Salary': 25904}]\n",
    "```"
   ]
  },
  {
   "cell_type": "markdown",
   "id": "8364a01f",
   "metadata": {
    "id": "8364a01f"
   },
   "source": [
    "# Exercise 6:\n",
    "\n",
    "1. Use a `lambda` function alongside with `map()` to get a list of strings with the following pattern:\n",
    "\n",
    "\"First Name is number_of_years years old\"\n",
    "\n",
    "The expected output should be:\n",
    "\n",
    "```python\n",
    "['Preston Cunningham is 49 years old',\n",
    " 'Madaline Farrell is 41 years old',\n",
    " 'Eleanor Carter is 49 years old',\n",
    " 'Adison Hall is 42 years old',\n",
    " 'Grace Cooper is 49 years old',\n",
    " 'Alford Kelley is 49 years old',\n",
    " 'Vincent Anderson is 47 years old',\n",
    " 'Myra Wright is 45 years old',\n",
    " 'Chester Bennett is 42 years old',\n",
    " 'Blake Tucker is 42 years old',\n",
    " 'Paige Ryan is 43 years old',\n",
    " 'Natalie Ellis is 45 years old',\n",
    " 'Martin Thompson is 47 years old',\n",
    " 'Alan Sullivan is 46 years old',\n",
    " 'Inga Bergman is 41 years old',\n",
    " 'Freddy Brown is 48 years old',\n",
    " 'Adelaide Farrell is 42 years old',\n",
    " 'Luke Cooper is 40 years old',\n",
    " 'Sofia Hall is 41 years old',\n",
    " 'Ashton Kelly is 49 years old']\n",
    "```\n",
    "\n",
    "Hint: use `str()` to cast an integer into a string."
   ]
  }
 ],
 "metadata": {
  "colab": {
   "provenance": []
  },
  "kernelspec": {
   "display_name": "Python 3.11.0 64-bit",
   "language": "python",
   "name": "python3"
  },
  "language_info": {
   "codemirror_mode": {
    "name": "ipython",
    "version": 3
   },
   "file_extension": ".py",
   "mimetype": "text/x-python",
   "name": "python",
   "nbconvert_exporter": "python",
   "pygments_lexer": "ipython3",
   "version": "3.11.0"
  },
  "vscode": {
   "interpreter": {
    "hash": "2469a70536e4d2335a2ea8907942d0699c37342a371ac185bdb5b0aa6f073890"
   }
  }
 },
 "nbformat": 4,
 "nbformat_minor": 5
}
