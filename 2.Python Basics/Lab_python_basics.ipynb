{
 "cells": [
  {
   "cell_type": "markdown",
   "id": "66b14279",
   "metadata": {
    "id": "66b14279"
   },
   "source": [
    "## Section 1: Tuples\n",
    "\n",
    "#### Do you know you can create tuples with only one element?\n",
    "\n",
    "**In the cell below, define a variable `tup` with a single element `\"I\"`.**\n",
    "\n",
    "*Hint: you need to add a comma (`,`) after the single element. The reason for this is that a tuple is defined as a series of comma-separated values. The parenthesis are not actually needed and are used simply for clarity. Therefore if we try to create a tuple without using a comma Python will simply interpret the element as a single element, be it a string, int or other types.*"
   ]
  },
  {
   "cell_type": "code",
   "execution_count": 1,
   "id": "b8426358",
   "metadata": {
    "id": "b8426358"
   },
   "outputs": [],
   "source": [
    "tup= \"I\","
   ]
  },
  {
   "cell_type": "markdown",
   "id": "2840c046",
   "metadata": {
    "id": "2840c046"
   },
   "source": [
    "#### Print the type of `tup`. \n",
    "\n",
    "Make sure its type is correct (i.e. *tuple* instead of *str*)."
   ]
  },
  {
   "cell_type": "code",
   "execution_count": 2,
   "id": "77753d4e",
   "metadata": {
    "id": "77753d4e"
   },
   "outputs": [
    {
     "data": {
      "text/plain": [
       "tuple"
      ]
     },
     "execution_count": 2,
     "metadata": {},
     "output_type": "execute_result"
    }
   ],
   "source": [
    "type(tup)"
   ]
  },
  {
   "cell_type": "markdown",
   "id": "9b5aa36c",
   "metadata": {
    "id": "9b5aa36c"
   },
   "source": [
    "#### Now try to append the following elements to `tup`. \n",
    "\n",
    "Are you able to do it? Explain.\n",
    "\n",
    "```\n",
    "\"r\", \"o\", \"n\", \"h\", \"a\", \"c\", \"k\"\n",
    "```"
   ]
  },
  {
   "cell_type": "code",
   "execution_count": 3,
   "id": "3746e679",
   "metadata": {
    "id": "3746e679"
   },
   "outputs": [],
   "source": [
    "\n",
    "tup= \"I\",\"r\", \"o\", \"n\", \"h\", \"a\", \"c\", \"k\""
   ]
  },
  {
   "cell_type": "markdown",
   "id": "9e1471d5",
   "metadata": {
    "id": "9e1471d5"
   },
   "source": [
    "#### How about re-assign a new value to an existing tuple?\n",
    "\n",
    "Re-assign the following elements to `tup`. Are you able to do it? Explain.\n",
    "\n",
    "```\n",
    "\"I\", \"r\", \"o\", \"n\", \"h\", \"a\", \"c\", \"k\"\n",
    "```"
   ]
  },
  {
   "cell_type": "code",
   "execution_count": 4,
   "id": "681e0da1",
   "metadata": {
    "id": "681e0da1"
   },
   "outputs": [
    {
     "data": {
      "text/plain": [
       "list"
      ]
     },
     "execution_count": 4,
     "metadata": {},
     "output_type": "execute_result"
    }
   ],
   "source": [
    "tup=list(tup)#transformas la tup en list para poder editarla\n",
    "type(tup) #comprobamos que se ha cambiado el type correctamente\n",
    "#Ahora cambiarías la lista como quieras\n",
    "tup=tuple(tup)#Volvemos a transformar la variable a type tuple\n",
    "#Fin"
   ]
  },
  {
   "cell_type": "markdown",
   "id": "b5c6ffc2",
   "metadata": {
    "id": "b5c6ffc2"
   },
   "source": [
    "#### Split `tup` into `tup1` and `tup2` with 4 elements in each. \n",
    "\n",
    "`tup1` should be `(\"I\", \"r\", \"o\", \"n\")` and `tup2` should be `(\"h\", \"a\", \"c\", \"k\")`.\n",
    "\n",
    "*Hint: use positive index numbers for `tup1` assignment and use negative index numbers for `tup2` assignment. Positive index numbers count from the beginning whereas negative index numbers count from the end of the sequence.*\n",
    "\n",
    "Also print `tup1` and `tup2`"
   ]
  },
  {
   "cell_type": "code",
   "execution_count": 85,
   "id": "f85de4bb",
   "metadata": {
    "id": "f85de4bb"
   },
   "outputs": [
    {
     "name": "stdout",
     "output_type": "stream",
     "text": [
      "('I', 'r', 'o', 'n')\n",
      "('h', 'a', 'c', 'k')\n"
     ]
    }
   ],
   "source": [
    "tup= \"I\",\"r\", \"o\", \"n\", \"h\", \"a\", \"c\", \"k\"\n",
    "tup1 =tup[:4]\n",
    "tup2 =tup[4:]\n",
    "print (tup1)\n",
    "print (tup2)   \n",
    "   \n",
    "      \n"
   ]
  },
  {
   "cell_type": "markdown",
   "id": "3300ba7d",
   "metadata": {
    "id": "3300ba7d"
   },
   "source": [
    "#### Add `tup1` and `tup2` into `tup3` using the `+` operator.\n",
    "\n",
    "Then print `tup3` and check if `tup3` equals to `tup`."
   ]
  },
  {
   "cell_type": "code",
   "execution_count": 87,
   "id": "0593a086",
   "metadata": {
    "id": "0593a086"
   },
   "outputs": [
    {
     "name": "stdout",
     "output_type": "stream",
     "text": [
      "('I', 'r', 'o', 'n', 'h', 'a', 'c', 'k')\n"
     ]
    }
   ],
   "source": [
    "tup3 = tup1 +tup2\n",
    "print(tup3)"
   ]
  },
  {
   "cell_type": "markdown",
   "id": "bede2c6c",
   "metadata": {
    "id": "bede2c6c"
   },
   "source": [
    "#### Count the number of elements in `tup1` and `tup2`. Then add the two counts together and check if the sum is the same as the number of elements in `tup3`."
   ]
  },
  {
   "cell_type": "code",
   "execution_count": 92,
   "id": "f8dbefd0",
   "metadata": {
    "id": "f8dbefd0"
   },
   "outputs": [
    {
     "name": "stdout",
     "output_type": "stream",
     "text": [
      "4\n",
      "4\n",
      "8\n",
      "Son iguales\n"
     ]
    }
   ],
   "source": [
    "print(len(tup1))\n",
    "print(len(tup2))\n",
    "print(len(tup3))\n",
    "if len(tup1+tup2)==len(tup3):\n",
    "    print(\"Son iguales\")\n",
    "else:\n",
    "    print(\"Son diferentes\")\n"
   ]
  },
  {
   "cell_type": "markdown",
   "id": "40c370c7",
   "metadata": {
    "id": "40c370c7"
   },
   "source": [
    "#### What is the index number of `\"h\"` in `tup3`?"
   ]
  },
  {
   "cell_type": "code",
   "execution_count": 93,
   "id": "a33f0a92",
   "metadata": {
    "id": "a33f0a92"
   },
   "outputs": [
    {
     "data": {
      "text/plain": [
       "4"
      ]
     },
     "execution_count": 93,
     "metadata": {},
     "output_type": "execute_result"
    }
   ],
   "source": [
    "tup3.index(\"h\")"
   ]
  },
  {
   "cell_type": "markdown",
   "id": "97ce77e6",
   "metadata": {
    "id": "97ce77e6"
   },
   "source": [
    "#### Now, use a FOR loop to check whether each letter in the following list is present in `tup3`:\n",
    "\n",
    "```\n",
    "letters = [\"a\", \"b\", \"c\", \"d\", \"e\"]\n",
    "```\n",
    "\n",
    "For each letter you check, print `True` if it is present in `tup3` otherwise print `False`.\n",
    "\n",
    "*Hint: you only need to loop `letters`. You don't need to loop `tup3` because there is a Python operator `in` you can use. See [reference](https://stackoverflow.com/questions/17920147/how-to-check-if-a-tuple-contains-an-element-in-python).*"
   ]
  },
  {
   "cell_type": "code",
   "execution_count": 96,
   "id": "f279179d",
   "metadata": {
    "id": "f279179d"
   },
   "outputs": [
    {
     "name": "stdout",
     "output_type": "stream",
     "text": [
      "a True\n",
      "b False\n",
      "c True\n",
      "d False\n",
      "e False\n"
     ]
    }
   ],
   "source": [
    "letters = [\"a\", \"b\", \"c\", \"d\", \"e\"]\n",
    "for i in letters:\n",
    "    if i in tup3:\n",
    "        print(i +\" True\")\n",
    "        \n",
    "    else:\n",
    "        print(i+ \" False\")"
   ]
  },
  {
   "cell_type": "markdown",
   "id": "7933b84a",
   "metadata": {
    "id": "7933b84a"
   },
   "source": [
    "#### How many times does each letter in `letters` appear in `tup3`?\n",
    "\n",
    "Print out the number of occurrence of each letter."
   ]
  },
  {
   "cell_type": "code",
   "execution_count": 104,
   "id": "20c41d5b",
   "metadata": {
    "id": "20c41d5b"
   },
   "outputs": [
    {
     "name": "stdout",
     "output_type": "stream",
     "text": [
      "a : 1\n",
      "b : 0\n",
      "c : 1\n",
      "d : 0\n",
      "e : 0\n"
     ]
    }
   ],
   "source": [
    "letters = [\"a\", \"b\", \"c\", \"d\", \"e\"]\n",
    "a= 0\n",
    "for i in letters:\n",
    "    if i in tup3:\n",
    "        a=a+1\n",
    "        print(i ,\":\", a)\n",
    "        a=0\n",
    "    else:\n",
    "        print(i, \": 0\",)\n",
    "        \n"
   ]
  },
  {
   "cell_type": "markdown",
   "id": "4b18d7cc",
   "metadata": {
    "id": "4b18d7cc"
   },
   "source": [
    "## Section 2: Sets\n",
    "\n",
    "There are a lot to learn about Python Sets and the information presented in the lesson is limited due to its length. To learn Python Sets in depth you are strongly encouraged to review the W3Schools tutorial on [Python Sets Examples and Methods](https://www.w3schools.com/python/python_sets.asp) before you work on this lab. Some difficult questions in this lab have their solutions in the W3Schools tutorial.\n",
    "\n",
    "#### First, import the Python `random` library."
   ]
  },
  {
   "cell_type": "code",
   "execution_count": 116,
   "id": "ebf421d3",
   "metadata": {
    "id": "ebf421d3"
   },
   "outputs": [],
   "source": [
    "import random"
   ]
  },
  {
   "cell_type": "markdown",
   "id": "d15fb4cf",
   "metadata": {
    "id": "d15fb4cf"
   },
   "source": [
    "#### In the cell below, create a list named `sample_list_1` with 80 random values. \n",
    "\n",
    "Requirements:\n",
    "\n",
    "* Each value is an integer falling between 0 and 100.\n",
    "* Each value in the list is unique.\n",
    "\n",
    "Print `sample_list_1` to review its values\n",
    "\n",
    "*Hint: use `random.sample` ([reference](https://docs.python.org/3/library/random.html#random.sample)).*"
   ]
  },
  {
   "cell_type": "code",
   "execution_count": 3,
   "id": "0e03014c",
   "metadata": {
    "id": "0e03014c"
   },
   "outputs": [
    {
     "name": "stdout",
     "output_type": "stream",
     "text": [
      "[32, 39, 92, 87, 12, 99, 15, 10, 64, 84, 69, 37, 60, 76, 77, 83, 9, 91, 17, 90, 25, 66, 89, 38, 79, 44, 63, 18, 57, 53, 94, 2, 11, 23, 42, 72, 33, 96, 74, 46, 70, 56, 97, 82, 41, 48, 85, 30, 47, 6, 59, 58, 27, 36, 75, 54, 4, 67, 55, 68, 7, 3, 78, 73, 93, 40, 65, 45, 31, 0, 62, 71, 13, 98, 52, 20, 80, 86, 50, 34]\n"
     ]
    }
   ],
   "source": [
    "import random\n",
    "sample_list_1= random.sample(range(100), 80)\n",
    "print(sample_list_1)\n",
    "\n"
   ]
  },
  {
   "cell_type": "markdown",
   "id": "5ce4d8d6",
   "metadata": {
    "id": "5ce4d8d6"
   },
   "source": [
    "#### Convert `sample_list_1` to a set called `set1`. Print the length of the set. Is its length still 80?"
   ]
  },
  {
   "cell_type": "code",
   "execution_count": 4,
   "id": "5646584e",
   "metadata": {
    "id": "5646584e"
   },
   "outputs": [
    {
     "name": "stdout",
     "output_type": "stream",
     "text": [
      "80\n"
     ]
    }
   ],
   "source": [
    "set1 = set(sample_list_1)\n",
    "print(len(set1))"
   ]
  },
  {
   "cell_type": "markdown",
   "id": "56079018",
   "metadata": {
    "id": "56079018"
   },
   "source": [
    "#### Create another list named `sample_list_2` with 80 random values.\n",
    "\n",
    "Requirements:\n",
    "\n",
    "* Define the initial `sample_list_2` as empty\n",
    "* Add values using the `append()` [method](https://www.w3schools.com/python/ref_list_append.asp)\n",
    "* Each value must be an integer falling between 0 and 100.\n",
    "* The values in the list don't have to be unique.\n",
    "\n",
    "*Hint: Use a FOR loop and the `randrange()` [function](https://www.w3schools.com/python/ref_random_randrange.asp).*"
   ]
  },
  {
   "cell_type": "code",
   "execution_count": 9,
   "id": "0b7034e4",
   "metadata": {
    "id": "0b7034e4"
   },
   "outputs": [
    {
     "name": "stdout",
     "output_type": "stream",
     "text": [
      "[28, 13, 25, 3, 68, 96, 43, 52, 21, 53, 29, 91, 19, 43, 13, 71, 63, 32, 67, 93, 30, 40, 70, 31, 1, 19, 57, 65, 19, 12, 12, 56, 42, 32, 35, 46, 26, 43, 75, 29, 41, 62, 41, 74, 49, 96, 75, 99, 59, 96, 71, 86, 65, 29, 92, 75, 62, 99, 60, 68, 4, 36, 69, 79, 63, 75, 18, 0, 96, 9, 83, 1, 48, 86, 11, 29, 70, 4, 61, 15]\n"
     ]
    }
   ],
   "source": [
    "sample_list_2 =[]\n",
    "for i in set1:\n",
    "    sample_list_2.append(random.randrange(0,100))\n",
    "\n",
    "print(sample_list_2)"
   ]
  },
  {
   "cell_type": "markdown",
   "id": "bd4f122b",
   "metadata": {
    "id": "bd4f122b"
   },
   "source": [
    "#### Convert `sample_list_2` to a set called `set2`. Print the length of the set. Is its length still 80?"
   ]
  },
  {
   "cell_type": "code",
   "execution_count": 11,
   "id": "c3614722",
   "metadata": {
    "id": "c3614722"
   },
   "outputs": [
    {
     "name": "stdout",
     "output_type": "stream",
     "text": [
      "53\n",
      "{0, 1, 3, 4, 9, 11, 12, 13, 15, 18, 19, 21, 25, 26, 28, 29, 30, 31, 32, 35, 36, 40, 41, 42, 43, 46, 48, 49, 52, 53, 56, 57, 59, 60, 61, 62, 63, 65, 67, 68, 69, 70, 71, 74, 75, 79, 83, 86, 91, 92, 93, 96, 99}\n"
     ]
    }
   ],
   "source": [
    "set2=set(sample_list_2)\n",
    "print(len(set2))"
   ]
  },
  {
   "cell_type": "markdown",
   "id": "5c113bf6",
   "metadata": {
    "id": "5c113bf6"
   },
   "source": [
    "#### Identify the elements present in `set1` but not in `set2`. Assign the elements to a new set named `set3`."
   ]
  },
  {
   "cell_type": "code",
   "execution_count": 59,
   "id": "36771e67",
   "metadata": {
    "id": "36771e67"
   },
   "outputs": [
    {
     "name": "stdout",
     "output_type": "stream",
     "text": [
      "2 Está en set2\n",
      "3 Está en set2\n",
      "4 No está en set2\n",
      "6 Está en set2\n",
      "7 Está en set2\n",
      "8 Está en set2\n",
      "9 Está en set2\n",
      "10 Está en set2\n",
      "12 No está en set2\n",
      "13 Está en set2\n",
      "15 No está en set2\n",
      "18 Está en set2\n",
      "20 No está en set2\n",
      "21 Está en set2\n",
      "23 No está en set2\n",
      "24 Está en set2\n",
      "26 Está en set2\n",
      "29 No está en set2\n",
      "31 Está en set2\n",
      "32 Está en set2\n",
      "34 No está en set2\n",
      "35 Está en set2\n",
      "36 Está en set2\n",
      "37 No está en set2\n",
      "39 Está en set2\n",
      "40 No está en set2\n",
      "41 No está en set2\n",
      "42 Está en set2\n",
      "43 No está en set2\n",
      "44 No está en set2\n",
      "45 Está en set2\n",
      "46 No está en set2\n",
      "47 Está en set2\n",
      "48 Está en set2\n",
      "49 Está en set2\n",
      "50 Está en set2\n",
      "51 No está en set2\n",
      "53 No está en set2\n",
      "54 Está en set2\n",
      "55 No está en set2\n",
      "56 Está en set2\n",
      "57 Está en set2\n",
      "58 Está en set2\n",
      "59 Está en set2\n",
      "60 Está en set2\n",
      "61 Está en set2\n",
      "62 Está en set2\n",
      "63 No está en set2\n",
      "64 Está en set2\n",
      "65 Está en set2\n",
      "66 No está en set2\n",
      "67 Está en set2\n",
      "68 Está en set2\n",
      "69 No está en set2\n",
      "70 No está en set2\n",
      "71 Está en set2\n",
      "72 No está en set2\n",
      "74 No está en set2\n",
      "75 Está en set2\n",
      "76 Está en set2\n",
      "77 No está en set2\n",
      "78 Está en set2\n",
      "79 No está en set2\n",
      "80 No está en set2\n",
      "81 No está en set2\n",
      "82 No está en set2\n",
      "83 No está en set2\n",
      "84 No está en set2\n",
      "85 No está en set2\n",
      "86 No está en set2\n",
      "87 No está en set2\n",
      "88 No está en set2\n",
      "89 No está en set2\n",
      "90 No está en set2\n",
      "91 No está en set2\n",
      "93 No está en set2\n",
      "94 No está en set2\n",
      "95 No está en set2\n",
      "97 No está en set2\n",
      "98 No está en set2\n",
      "SET1 \n",
      " {2, 3, 4, 6, 7, 8, 9, 10, 12, 13, 15, 18, 20, 21, 23, 24, 26, 29, 31, 32, 34, 35, 36, 37, 39, 40, 41, 42, 43, 44, 45, 46, 47, 48, 49, 50, 51, 53, 54, 55, 56, 57, 58, 59, 60, 61, 62, 63, 64, 65, 66, 67, 68, 69, 70, 71, 72, 74, 75, 76, 77, 78, 79, 80, 81, 82, 83, 84, 85, 86, 87, 88, 89, 90, 91, 93, 94, 95, 97, 98}\n",
      "SET2 \n",
      " {0, 1, 2, 3, 6, 7, 8, 9, 10, 11, 13, 16, 18, 19, 21, 24, 25, 26, 27, 28, 30, 31, 32, 33, 35, 36, 38, 39, 42, 45, 47, 48, 49, 50, 52, 54, 56, 57, 58, 59, 60, 61, 62, 64, 65, 67, 68, 71, 75, 76, 78}\n",
      "SET3 \n",
      " {4, 12, 15, 20, 23, 29, 34, 37, 40, 41, 43, 44, 46, 51, 53, 55, 63, 66, 69, 70, 72, 74, 77, 79, 80, 81, 82, 83, 84, 85, 86, 87, 88, 89, 90, 91, 93, 94, 95, 97, 98}\n"
     ]
    }
   ],
   "source": [
    "set3=[]\n",
    "for i in set1:\n",
    "    if i in set2:\n",
    "        print(i, \"Está en set2\")\n",
    "    else:\n",
    "        print(i,\"No está en set2\")\n",
    "        set3.append(i)\n",
    "set3=set(set3)\n",
    "print(\"SET1 \\n\",set1)\n",
    "print(\"SET2 \\n\",set2)\n",
    "print(\"SET3 \\n\",set3)"
   ]
  },
  {
   "cell_type": "markdown",
   "id": "ce6d7d87",
   "metadata": {
    "id": "ce6d7d87"
   },
   "source": [
    "#### Identify the elements present in `set2` but not in `set1`. Assign the elements to a new set named `set4`."
   ]
  },
  {
   "cell_type": "code",
   "execution_count": 58,
   "id": "0549b8f7",
   "metadata": {
    "id": "0549b8f7"
   },
   "outputs": [
    {
     "name": "stdout",
     "output_type": "stream",
     "text": [
      "0 No está en set1\n",
      "1 No está en set1\n",
      "2 Está en set1\n",
      "3 Está en set1\n",
      "6 Está en set1\n",
      "7 Está en set1\n",
      "8 Está en set1\n",
      "9 Está en set1\n",
      "10 Está en set1\n",
      "11 No está en set1\n",
      "13 Está en set1\n",
      "16 No está en set1\n",
      "18 Está en set1\n",
      "19 No está en set1\n",
      "21 Está en set1\n",
      "24 Está en set1\n",
      "25 No está en set1\n",
      "26 Está en set1\n",
      "27 No está en set1\n",
      "28 No está en set1\n",
      "30 No está en set1\n",
      "31 Está en set1\n",
      "32 Está en set1\n",
      "33 No está en set1\n",
      "35 Está en set1\n",
      "36 Está en set1\n",
      "38 No está en set1\n",
      "39 Está en set1\n",
      "42 Está en set1\n",
      "45 Está en set1\n",
      "47 Está en set1\n",
      "48 Está en set1\n",
      "49 Está en set1\n",
      "50 Está en set1\n",
      "52 No está en set1\n",
      "54 Está en set1\n",
      "56 Está en set1\n",
      "57 Está en set1\n",
      "58 Está en set1\n",
      "59 Está en set1\n",
      "60 Está en set1\n",
      "61 Está en set1\n",
      "62 Está en set1\n",
      "64 Está en set1\n",
      "65 Está en set1\n",
      "67 Está en set1\n",
      "68 Está en set1\n",
      "71 Está en set1\n",
      "75 Está en set1\n",
      "76 Está en set1\n",
      "78 Está en set1\n",
      "SET1 \n",
      " {2, 3, 4, 6, 7, 8, 9, 10, 12, 13, 15, 18, 20, 21, 23, 24, 26, 29, 31, 32, 34, 35, 36, 37, 39, 40, 41, 42, 43, 44, 45, 46, 47, 48, 49, 50, 51, 53, 54, 55, 56, 57, 58, 59, 60, 61, 62, 63, 64, 65, 66, 67, 68, 69, 70, 71, 72, 74, 75, 76, 77, 78, 79, 80, 81, 82, 83, 84, 85, 86, 87, 88, 89, 90, 91, 93, 94, 95, 97, 98}\n",
      "SET2 \n",
      " {0, 1, 2, 3, 6, 7, 8, 9, 10, 11, 13, 16, 18, 19, 21, 24, 25, 26, 27, 28, 30, 31, 32, 33, 35, 36, 38, 39, 42, 45, 47, 48, 49, 50, 52, 54, 56, 57, 58, 59, 60, 61, 62, 64, 65, 67, 68, 71, 75, 76, 78}\n",
      "SET4 \n",
      " {0, 1, 33, 38, 11, 16, 19, 52, 25, 27, 28, 30}\n"
     ]
    }
   ],
   "source": [
    "set4=[]\n",
    "for i in set2:\n",
    "    if i in set1:\n",
    "        print(i, \"Está en set1\")\n",
    "    else:\n",
    "        print(i,\"No está en set1\")\n",
    "        set4.append(i)\n",
    "set4=set(set4)\n",
    "print(\"SET1 \\n\",set1)\n",
    "print(\"SET2 \\n\",set2)\n",
    "print(\"SET4 \\n\",set4)"
   ]
  },
  {
   "cell_type": "markdown",
   "id": "f340e36e",
   "metadata": {
    "id": "f340e36e"
   },
   "source": [
    "#### Now Identify the elements shared between `set1` and `set2`. Assign the elements to a new set named `set5`."
   ]
  },
  {
   "cell_type": "code",
   "execution_count": 96,
   "id": "0fa44ad4",
   "metadata": {
    "id": "0fa44ad4"
   },
   "outputs": [
    {
     "ename": "IndentationError",
     "evalue": "expected an indented block (1110073494.py, line 9)",
     "output_type": "error",
     "traceback": [
      "\u001b[1;36m  Input \u001b[1;32mIn [96]\u001b[1;36m\u001b[0m\n\u001b[1;33m    set5=set(set5)\u001b[0m\n\u001b[1;37m                  ^\u001b[0m\n\u001b[1;31mIndentationError\u001b[0m\u001b[1;31m:\u001b[0m expected an indented block\n"
     ]
    }
   ],
   "source": [
    "set5=[]\n",
    "for i in set1:\n",
    "    if i in set2:\n",
    "        print(i, \"Está en set2\")\n",
    "        set5.append(i)\n",
    "    else:\n",
    "        print(i,\"No está en set2\")\n",
    "        \n",
    "set5=set(set5)\n",
    "print(\"SET1 \\n\",set1)\n",
    "print(\"SET2 \\n\",set2)\n",
    "print(\"SET5 \\n\",set5)"
   ]
  },
  {
   "cell_type": "markdown",
   "id": "4aa84105",
   "metadata": {
    "id": "4aa84105"
   },
   "source": [
    "#### What is the relationship among the following values:\n",
    "\n",
    "* len(set1)\n",
    "* len(set2)\n",
    "* len(set3)\n",
    "* len(set4)\n",
    "* len(set5)\n",
    "\n",
    "Think about the set operations that you used to create the sets and how the lengths of the sets are related to each other given those operations."
   ]
  },
  {
   "cell_type": "code",
   "execution_count": 67,
   "id": "2e1c7acc",
   "metadata": {
    "id": "2e1c7acc"
   },
   "outputs": [
    {
     "name": "stdout",
     "output_type": "stream",
     "text": [
      "set1, guardado a partir de lista1 de 80 elementos: len  80\n",
      "set2, guardado de una lista 2 y luego transformada a set: len  51\n",
      "set 3 elementos que se encuentran en el set 1 pero no en el 2: len  41\n",
      "set 4 elementos que se encuentran en el set 2 pero no en el 1: len  12\n",
      "elementos comunes entre set 1 y 2: len  39\n"
     ]
    }
   ],
   "source": [
    "print( \"set1, guardado a partir de lista1 de 80 elementos: len \",len(set1))\n",
    "print(\"set2, guardado de una lista 2 y luego transformada a set: len \",len(set2))\n",
    "print(\"set 3 elementos que se encuentran en el set 1 pero no en el 2: len \",len(set3))\n",
    "print(\"set 4 elementos que se encuentran en el set 2 pero no en el 1: len \",len(set4))\n",
    "print(\"elementos comunes entre set 1 y 2: len \",len(set5))"
   ]
  },
  {
   "cell_type": "markdown",
   "id": "8782ed0d",
   "metadata": {
    "id": "8782ed0d"
   },
   "source": [
    "#### Create an empty set called `set6`."
   ]
  },
  {
   "cell_type": "code",
   "execution_count": 17,
   "id": "150b93fa",
   "metadata": {
    "id": "150b93fa"
   },
   "outputs": [],
   "source": [
    "set6={0}"
   ]
  },
  {
   "cell_type": "markdown",
   "id": "4ab43ebf",
   "metadata": {
    "id": "4ab43ebf"
   },
   "source": [
    "#### Add `set3` and `set5` to `set6` using the Python Set `update` [method](https://www.w3schools.com/python/ref_set_update.asp)."
   ]
  },
  {
   "cell_type": "code",
   "execution_count": 18,
   "id": "8eb2e11d",
   "metadata": {
    "id": "8eb2e11d"
   },
   "outputs": [
    {
     "ename": "NameError",
     "evalue": "name 'set3' is not defined",
     "output_type": "error",
     "traceback": [
      "\u001b[1;31m---------------------------------------------------------------------------\u001b[0m",
      "\u001b[1;31mNameError\u001b[0m                                 Traceback (most recent call last)",
      "Input \u001b[1;32mIn [18]\u001b[0m, in \u001b[0;36m<cell line: 1>\u001b[1;34m()\u001b[0m\n\u001b[1;32m----> 1\u001b[0m \u001b[38;5;28mprint\u001b[39m(\u001b[43mset3\u001b[49m)\n\u001b[0;32m      2\u001b[0m \u001b[38;5;28mprint\u001b[39m(set5)\n\u001b[0;32m      3\u001b[0m set6\u001b[38;5;241m.\u001b[39mupdate(set3)\n",
      "\u001b[1;31mNameError\u001b[0m: name 'set3' is not defined"
     ]
    }
   ],
   "source": [
    "print(set3)\n",
    "print(set5)\n",
    "set6.update(set3)\n",
    "set6.update(set5)\n",
    "set6.remove(0)\n",
    "print(set6)"
   ]
  },
  {
   "cell_type": "markdown",
   "id": "160b3a58",
   "metadata": {
    "id": "160b3a58"
   },
   "source": [
    "#### Check if `set1` and `set6` are equal."
   ]
  },
  {
   "cell_type": "code",
   "execution_count": 105,
   "id": "50c9008e",
   "metadata": {
    "id": "50c9008e"
   },
   "outputs": [
    {
     "name": "stdout",
     "output_type": "stream",
     "text": [
      "las dos listas son iguales\n"
     ]
    }
   ],
   "source": [
    "if set1== set6:\n",
    "    print(\"las dos listas son iguales\")\n",
    "else:\n",
    "    print(\"Las dos listas son distintas\")"
   ]
  },
  {
   "cell_type": "markdown",
   "id": "6b8b52e2",
   "metadata": {
    "id": "6b8b52e2"
   },
   "source": [
    "#### Check if `set1` contains `set2` using the Python Set `issubset` [method](https://www.w3schools.com/python/ref_set_issubset.asp). Then check if `set1` contains `set3`."
   ]
  },
  {
   "cell_type": "code",
   "execution_count": 108,
   "id": "83e2461a",
   "metadata": {
    "id": "83e2461a"
   },
   "outputs": [
    {
     "name": "stdout",
     "output_type": "stream",
     "text": [
      "False\n",
      "False\n"
     ]
    }
   ],
   "source": [
    "print(set1.issubset(set2))\n",
    "print(set1.issubset(set3))"
   ]
  },
  {
   "cell_type": "markdown",
   "id": "7afaf06b",
   "metadata": {
    "id": "7afaf06b"
   },
   "source": [
    "#### Using the Python Set `union` method, aggregate `set3`, `set4`, and `set5`. Then aggregate `set1` and `set2`. \n",
    "\n",
    "#### Check if the aggregated values are equal."
   ]
  },
  {
   "cell_type": "code",
   "execution_count": 122,
   "id": "4056d56a",
   "metadata": {
    "id": "4056d56a"
   },
   "outputs": [
    {
     "name": "stdout",
     "output_type": "stream",
     "text": [
      "True\n",
      "True\n",
      "True\n",
      "True\n",
      "True\n"
     ]
    }
   ],
   "source": [
    "u=set3.union(set3,set4,set5)\n",
    "\n",
    "u=set3.union(set1,set2)\n",
    "\n",
    "print(set3.issubset(u))\n",
    "print(set4.issubset(u))\n",
    "print(set5.issubset(u))\n",
    "print(set1.issubset(u))\n",
    "print(set2.issubset(u))"
   ]
  },
  {
   "cell_type": "markdown",
   "id": "c58f2a3c",
   "metadata": {
    "id": "c58f2a3c"
   },
   "source": [
    "#### Using the `pop` method, remove the first element from `set1`."
   ]
  },
  {
   "cell_type": "code",
   "execution_count": 163,
   "id": "80cc9fb6",
   "metadata": {
    "id": "80cc9fb6"
   },
   "outputs": [
    {
     "data": {
      "text/plain": [
       "3"
      ]
     },
     "execution_count": 163,
     "metadata": {},
     "output_type": "execute_result"
    }
   ],
   "source": [
    "set1=list(set1)\n",
    "set1.pop(0)\n"
   ]
  },
  {
   "cell_type": "markdown",
   "id": "a470fc60",
   "metadata": {
    "id": "a470fc60"
   },
   "source": [
    "#### Remove every element in the following list from `set1` if they are present in the set. Print the remaining elements.\n",
    "\n",
    "```\n",
    "list_to_remove = [1, 9, 11, 19, 21, 29, 31, 39, 41, 49, 51, 59, 61, 69, 71, 79, 81, 89, 91, 99]\n",
    "```"
   ]
  },
  {
   "cell_type": "code",
   "execution_count": 173,
   "id": "caeb3499",
   "metadata": {
    "id": "caeb3499"
   },
   "outputs": [
    {
     "name": "stdout",
     "output_type": "stream",
     "text": [
      "[4, 5, 6, 7, 8, 9, 10, 11, 13, 14, 15, 16, 17, 18, 19, 20, 21, 22, 23, 24, 26, 27, 30, 31, 32, 33, 35, 36, 37, 39, 40, 41, 42, 44, 45, 46, 47, 49, 50, 53, 54, 55, 56, 57, 58, 59, 60, 65, 67, 68, 69, 70, 71, 72, 73, 74, 75, 76, 77, 78, 79, 80, 81, 82, 84, 85, 86, 87, 88, 89, 90, 92, 93, 94, 95, 96, 97, 98]\n",
      "[4, 5, 6, 7, 8, 9, 10, 11, 13, 14, 15, 16, 17, 18, 19, 20, 21, 22, 23, 24, 26, 27, 30, 31, 32, 33, 35, 36, 37, 39, 40, 41, 42, 44, 45, 46, 47, 49, 50, 53, 54, 55, 56, 57, 58, 59, 60, 65, 67, 68, 69, 70, 71, 72, 73, 74, 75, 76, 77, 78, 79, 80, 81, 82, 84]\n"
     ]
    }
   ],
   "source": [
    "list_to_remove = [1, 9, 11, 19, 21, 29, 31, 39, 41, 49, 51, 59, 61, 69, 71, 79, 81, 89, 91, 99]\n",
    "print(set1)\n",
    "for i in set1:\n",
    "    if i in list_to_remove:\n",
    "         set1.pop()\n",
    "print(set1)"
   ]
  },
  {
   "cell_type": "markdown",
   "id": "852b0ed8",
   "metadata": {
    "id": "852b0ed8"
   },
   "source": [
    "## Section 3: Dictionaries\n",
    "\n",
    "In this challenge you will practice how to manipulate Python dictionaries. Before starting on this challenge, you are encouraged to review W3School's [Python Dictionary Examples and Methods](https://www.w3schools.com/python/python_dictionaries.asp)."
   ]
  },
  {
   "cell_type": "markdown",
   "id": "0209636c",
   "metadata": {
    "id": "0209636c"
   },
   "source": [
    "**Create a dictionary called `dict1` with the following key:value pairs representing a name and relative height:**  \n",
    "Penelope: 178  \n",
    "Arnau: 172  \n",
    "Marta: 175"
   ]
  },
  {
   "cell_type": "code",
   "execution_count": 189,
   "id": "cda20e41",
   "metadata": {
    "id": "cda20e41"
   },
   "outputs": [
    {
     "name": "stdout",
     "output_type": "stream",
     "text": [
      "{'name': ('Penelope', 'Arnau', 'Marta'), 'relative height': (178, 172, 175)}\n"
     ]
    }
   ],
   "source": [
    "dic1 = {\n",
    "  \"name\":( \"Penelope\",\"Arnau\",\"Marta\"),\n",
    "  \"relative height\": (178, 172,175)\n",
    " \n",
    "}\n",
    "print(dic1)"
   ]
  },
  {
   "cell_type": "markdown",
   "id": "963f8b6f",
   "metadata": {
    "id": "963f8b6f"
   },
   "source": [
    "You can access the elements of a dictionary by using 3 methods: `keys()`, `values()` and `items()`. \n",
    "\n",
    "As the names suggest the first method only returns the keys, the second only the values and the third both of them in pairs. \n",
    "\n",
    "**Use the three methods on `dict1` to look at the different results.**"
   ]
  },
  {
   "cell_type": "code",
   "execution_count": 190,
   "id": "17f00a6b",
   "metadata": {
    "id": "17f00a6b"
   },
   "outputs": [
    {
     "name": "stdout",
     "output_type": "stream",
     "text": [
      "dict_keys(['name', 'relative height'])\n",
      "dict_values([('Penelope', 'Arnau', 'Marta'), (178, 172, 175)])\n",
      "dict_items([('name', ('Penelope', 'Arnau', 'Marta')), ('relative height', (178, 172, 175))])\n"
     ]
    }
   ],
   "source": [
    "print(dic1.keys())\n",
    "print(dic1.values())\n",
    "print(dic1.items())"
   ]
  },
  {
   "cell_type": "markdown",
   "id": "3a3496db",
   "metadata": {
    "id": "3a3496db"
   },
   "source": [
    "You can add a key-value pair to a dictionary by using the syntax `name_of_dict[key_name] = value`. If the key already exists, the corresponding value will be replaced. If not, a new key-value pair will be created in the dictionary.\n",
    "\n",
    "**Use this syntax to add a new name:height pair to `dict1` and then print the whole dictionary.**"
   ]
  },
  {
   "cell_type": "code",
   "execution_count": 195,
   "id": "a2b2fae8",
   "metadata": {
    "id": "a2b2fae8"
   },
   "outputs": [
    {
     "name": "stdout",
     "output_type": "stream",
     "text": [
      "{'name': ('Penelope', 'Arnau', 'Marta'), 'relative height': (178, 172, 175), 'height': 2}\n"
     ]
    }
   ],
   "source": [
    "dic1[\"height\"]=(2)\n",
    "print(dic1)"
   ]
  },
  {
   "cell_type": "markdown",
   "id": "fc92a7e5",
   "metadata": {
    "id": "fc92a7e5"
   },
   "source": [
    "You can also delete a key from a dictionary using the syntax `del name_of_dict[key_name]`. \n",
    "\n",
    "**Try using it to delete the key you just added and then print the dictionary again to see the results.**"
   ]
  },
  {
   "cell_type": "code",
   "execution_count": 196,
   "id": "39e3f283",
   "metadata": {
    "id": "39e3f283"
   },
   "outputs": [
    {
     "name": "stdout",
     "output_type": "stream",
     "text": [
      "{'name': ('Penelope', 'Arnau', 'Marta'), 'relative height': (178, 172, 175)}\n"
     ]
    }
   ],
   "source": [
    "del dic1[\"height\"]\n",
    "print(dic1)"
   ]
  },
  {
   "cell_type": "markdown",
   "id": "82d10df4",
   "metadata": {
    "id": "82d10df4"
   },
   "source": [
    "Now you will practice is how to sort the keys in a dictionary. Unlike the list object, Python dictionary does not have a built-in *sort* method. You'll need to use FOR loops to to sort dictionaries either by key or by value.\n",
    "\n",
    "The dictionary below is a summary of the word frequency of Ed Sheeran's song *Shape of You*. Each key is a word in the lyrics and the value is the number of times that word appears in the lyrics."
   ]
  },
  {
   "cell_type": "code",
   "execution_count": 3,
   "id": "94625087",
   "metadata": {
    "id": "94625087"
   },
   "outputs": [
    {
     "name": "stdout",
     "output_type": "stream",
     "text": [
      "{'love': 25, 'conversation': 1, 'every': 6, \"we're\": 1, 'plate': 1, 'sour': 1, 'jukebox': 1, 'now': 11, 'taxi': 1, 'fast': 1, 'bag': 1, 'man': 1, 'push': 3, 'baby': 14, 'going': 1, 'you': 16, \"don't\": 2, 'one': 1, 'mind': 2, 'backseat': 1, 'friends': 1, 'then': 3, 'know': 2, 'take': 1, 'play': 1, 'okay': 1, 'so': 2, 'begin': 1, 'start': 2, 'over': 1, 'body': 17, 'boy': 2, 'just': 1, 'we': 7, 'are': 1, 'girl': 2, 'tell': 1, 'singing': 2, 'drinking': 1, 'put': 3, 'our': 1, 'where': 1, \"i'll\": 1, 'all': 1, \"isn't\": 1, 'make': 1, 'lover': 1, 'get': 1, 'radio': 1, 'give': 1, \"i'm\": 23, 'like': 10, 'can': 1, 'doing': 2, 'with': 22, 'club': 1, 'come': 37, 'it': 1, 'somebody': 2, 'handmade': 2, 'out': 1, 'new': 6, 'room': 3, 'chance': 1, 'follow': 6, 'in': 27, 'may': 2, 'brand': 6, 'that': 2, 'magnet': 3, 'up': 3, 'first': 1, 'and': 23, 'pull': 3, 'of': 6, 'table': 1, 'much': 2, 'last': 3, 'i': 6, 'thrifty': 1, 'grab': 2, 'was': 2, 'driver': 1, 'slow': 1, 'dance': 1, 'the': 18, 'say': 2, 'trust': 1, 'family': 1, 'week': 1, 'date': 1, 'me': 10, 'do': 3, 'waist': 2, 'smell': 3, 'day': 6, 'although': 3, 'your': 21, 'leave': 1, 'want': 2, \"let's\": 2, 'lead': 6, 'at': 1, 'hand': 1, 'how': 1, 'talk': 4, 'not': 2, 'eat': 1, 'falling': 3, 'about': 1, 'story': 1, 'sweet': 1, 'best': 1, 'crazy': 2, 'let': 1, 'too': 5, 'van': 1, 'shots': 1, 'go': 2, 'to': 2, 'a': 8, 'my': 33, 'is': 5, 'place': 1, 'find': 1, 'shape': 6, 'on': 40, 'kiss': 1, 'were': 3, 'night': 3, 'heart': 3, 'for': 3, 'discovering': 6, 'something': 6, 'be': 16, 'bedsheets': 3, 'fill': 2, 'hours': 2, 'stop': 1, 'bar': 1}\n"
     ]
    }
   ],
   "source": [
    "word_freq = {'love': 25, 'conversation': 1, 'every': 6, \"we're\": 1, 'plate': 1, 'sour': 1, 'jukebox': 1, 'now': 11, 'taxi': 1, 'fast': 1, 'bag': 1, 'man': 1, 'push': 3, 'baby': 14, 'going': 1, 'you': 16, \"don't\": 2, 'one': 1, 'mind': 2, 'backseat': 1, 'friends': 1, 'then': 3, 'know': 2, 'take': 1, 'play': 1, 'okay': 1, 'so': 2, 'begin': 1, 'start': 2, 'over': 1, 'body': 17, 'boy': 2, 'just': 1, 'we': 7, 'are': 1, 'girl': 2, 'tell': 1, 'singing': 2, 'drinking': 1, 'put': 3, 'our': 1, 'where': 1, \"i'll\": 1, 'all': 1, \"isn't\": 1, 'make': 1, 'lover': 1, 'get': 1, 'radio': 1, 'give': 1, \"i'm\": 23, 'like': 10, 'can': 1, 'doing': 2, 'with': 22, 'club': 1, 'come': 37, 'it': 1, 'somebody': 2, 'handmade': 2, 'out': 1, 'new': 6, 'room': 3, 'chance': 1, 'follow': 6, 'in': 27, 'may': 2, 'brand': 6, 'that': 2, 'magnet': 3, 'up': 3, 'first': 1, 'and': 23, 'pull': 3, 'of': 6, 'table': 1, 'much': 2, 'last': 3, 'i': 6, 'thrifty': 1, 'grab': 2, 'was': 2, 'driver': 1, 'slow': 1, 'dance': 1, 'the': 18, 'say': 2, 'trust': 1, 'family': 1, 'week': 1, 'date': 1, 'me': 10, 'do': 3, 'waist': 2, 'smell': 3, 'day': 6, 'although': 3, 'your': 21, 'leave': 1, 'want': 2, \"let's\": 2, 'lead': 6, 'at': 1, 'hand': 1, 'how': 1, 'talk': 4, 'not': 2, 'eat': 1, 'falling': 3, 'about': 1, 'story': 1, 'sweet': 1, 'best': 1, 'crazy': 2, 'let': 1, 'too': 5, 'van': 1, 'shots': 1, 'go': 2, 'to': 2, 'a': 8, 'my': 33, 'is': 5, 'place': 1, 'find': 1, 'shape': 6, 'on': 40, 'kiss': 1, 'were': 3, 'night': 3, 'heart': 3, 'for': 3, 'discovering': 6, 'something': 6, 'be': 16, 'bedsheets': 3, 'fill': 2, 'hours': 2, 'stop': 1, 'bar': 1}\n",
    "print(word_freq)"
   ]
  },
  {
   "cell_type": "markdown",
   "id": "1f155e2f",
   "metadata": {
    "id": "1f155e2f"
   },
   "source": [
    "#### Sort the keys of `word_freq` ascendingly.\n",
    "\n",
    "Please create a new dictionary called `word_freq2` based on `word_freq` with the keys sorted ascedingly.\n",
    "\n",
    "There are several ways to achieve that goal but many of the ways are beyond what we have covered so far in the course. There is one way that we'll describe employing what you have learned. Please feel free to use this way or any other way you want.\n",
    "\n",
    "1. First extract the keys of `word_freq` and convert it to a list called `keys`.\n",
    "\n",
    "2. Sort the `keys` list.\n",
    "\n",
    "3. Create an empty dictionary `word_freq2`.\n",
    "\n",
    "4. Use a FOR loop to iterate each value in `keys`. For each key iterated, find the corresponding value in `word_freq` and insert the key-value pair to `word_freq2`.\n",
    "\n",
    "Print out `word_freq2` to examine its keys and values. Your output should be:\n",
    "\n",
    "```python\n",
    "{'a': 8, 'about': 1, 'all': 1, 'although': 3, 'and': 23, 'are': 1, 'at': 1, 'baby': 14, 'backseat': 1, 'bag': 1, 'bar': 1, 'be': 16, 'bedsheets': 3, 'begin': 1, 'best': 1, 'body': 17, 'boy': 2, 'brand': 6, 'can': 1, 'chance': 1, 'club': 1, 'come': 37, 'conversation': 1, 'crazy': 2, 'dance': 1, 'date': 1, 'day': 6, 'discovering': 6, 'do': 3, 'doing': 2, \"don't\": 2, 'drinking': 1, 'driver': 1, 'eat': 1, 'every': 6, 'falling': 3, 'family': 1, 'fast': 1, 'fill': 2, 'find': 1, 'first': 1, 'follow': 6, 'for': 3, 'friends': 1, 'get': 1, 'girl': 2, 'give': 1, 'go': 2, 'going': 1, 'grab': 2, 'hand': 1, 'handmade': 2, 'heart': 3, 'hours': 2, 'how': 1, 'i': 6, \"i'll\": 1, \"i'm\": 23, 'in': 27, 'is': 5, \"isn't\": 1, 'it': 1, 'jukebox': 1, 'just': 1, 'kiss': 1, 'know': 2, 'last': 3, 'lead': 6, 'leave': 1, 'let': 1, \"let's\": 2, 'like': 10, 'love': 25, 'lover': 1, 'magnet': 3, 'make': 1, 'man': 1, 'may': 2, 'me': 10, 'mind': 2, 'much': 2, 'my': 33, 'new': 6, 'night': 3, 'not': 2, 'now': 11, 'of': 6, 'okay': 1, 'on': 40, 'one': 1, 'our': 1, 'out': 1, 'over': 1, 'place': 1, 'plate': 1, 'play': 1, 'pull': 3, 'push': 3, 'put': 3, 'radio': 1, 'room': 3, 'say': 2, 'shape': 6, 'shots': 1, 'singing': 2, 'slow': 1, 'smell': 3, 'so': 2, 'somebody': 2, 'something': 6, 'sour': 1, 'start': 2, 'stop': 1, 'story': 1, 'sweet': 1, 'table': 1, 'take': 1, 'talk': 4, 'taxi': 1, 'tell': 1, 'that': 2, 'the': 18, 'then': 3, 'thrifty': 1, 'to': 2, 'too': 5, 'trust': 1, 'up': 3, 'van': 1, 'waist': 2, 'want': 2, 'was': 2, 'we': 7, \"we're\": 1, 'week': 1, 'were': 3, 'where': 1, 'with': 22, 'you': 16, 'your': 21}\n",
    "```"
   ]
  },
  {
   "cell_type": "code",
   "execution_count": 4,
   "id": "6c2e6763",
   "metadata": {
    "id": "6c2e6763"
   },
   "outputs": [
    {
     "name": "stdout",
     "output_type": "stream",
     "text": [
      "{'a': 8, 'about': 1, 'all': 1, 'although': 3, 'and': 23, 'are': 1, 'at': 1, 'baby': 14, 'backseat': 1, 'bag': 1, 'bar': 1, 'be': 16, 'bedsheets': 3, 'begin': 1, 'best': 1, 'body': 17, 'boy': 2, 'brand': 6, 'can': 1, 'chance': 1, 'club': 1, 'come': 37, 'conversation': 1, 'crazy': 2, 'dance': 1, 'date': 1, 'day': 6, 'discovering': 6, 'do': 3, 'doing': 2, \"don't\": 2, 'drinking': 1, 'driver': 1, 'eat': 1, 'every': 6, 'falling': 3, 'family': 1, 'fast': 1, 'fill': 2, 'find': 1, 'first': 1, 'follow': 6, 'for': 3, 'friends': 1, 'get': 1, 'girl': 2, 'give': 1, 'go': 2, 'going': 1, 'grab': 2, 'hand': 1, 'handmade': 2, 'heart': 3, 'hours': 2, 'how': 1, 'i': 6, \"i'll\": 1, \"i'm\": 23, 'in': 27, 'is': 5, \"isn't\": 1, 'it': 1, 'jukebox': 1, 'just': 1, 'kiss': 1, 'know': 2, 'last': 3, 'lead': 6, 'leave': 1, 'let': 1, \"let's\": 2, 'like': 10, 'love': 25, 'lover': 1, 'magnet': 3, 'make': 1, 'man': 1, 'may': 2, 'me': 10, 'mind': 2, 'much': 2, 'my': 33, 'new': 6, 'night': 3, 'not': 2, 'now': 11, 'of': 6, 'okay': 1, 'on': 40, 'one': 1, 'our': 1, 'out': 1, 'over': 1, 'place': 1, 'plate': 1, 'play': 1, 'pull': 3, 'push': 3, 'put': 3, 'radio': 1, 'room': 3, 'say': 2, 'shape': 6, 'shots': 1, 'singing': 2, 'slow': 1, 'smell': 3, 'so': 2, 'somebody': 2, 'something': 6, 'sour': 1, 'start': 2, 'stop': 1, 'story': 1, 'sweet': 1, 'table': 1, 'take': 1, 'talk': 4, 'taxi': 1, 'tell': 1, 'that': 2, 'the': 18, 'then': 3, 'thrifty': 1, 'to': 2, 'too': 5, 'trust': 1, 'up': 3, 'van': 1, 'waist': 2, 'want': 2, 'was': 2, 'we': 7, \"we're\": 1, 'week': 1, 'were': 3, 'where': 1, 'with': 22, 'you': 16, 'your': 21}\n"
     ]
    }
   ],
   "source": [
    "keys=[]\n",
    "for i in word_freq.keys():\n",
    "    keys.append(i)\n",
    "\n",
    "keys.sort()\n",
    "\n",
    "word_freq2 ={\n",
    "    \n",
    "}\n",
    "for i in keys:\n",
    "    for j in word_freq.keys():\n",
    "        if i == j :\n",
    "            word_freq2[i]=(word_freq.get(i))\n",
    "            \n",
    "print(word_freq2)"
   ]
  },
  {
   "cell_type": "markdown",
   "id": "a939f207",
   "metadata": {
    "id": "a939f207"
   },
   "source": [
    "#### Sort the values of `word_freq` ascendingly.\n",
    "\n",
    "Sorting the values of a dictionary is more tricky than sorting the keys because a dictionary's values are not unique. Therefore you cannot use the same way you sorted dict keys to sort dict values.\n",
    "\n",
    "The way to sort a dict by value is to utilize the `sorted` and `operator.itemgetter` functions. The following code snippet is provided to you to try. It will give you a list of tuples in which each tuple contains the key and value of a dict item. And the list is sorted based on the dict value ( [reference](http://thomas-cokelaer.info/blog/2017/12/how-to-sort-a-dictionary-by-values-in-python/)\n",
    ").\n",
    "\n",
    "```python\n",
    "import operator\n",
    "sorted_tups = sorted(word_freq.items(), key=operator.itemgetter(1))\n",
    "print(sorted_tups)\n",
    "```\n",
    "\n",
    "Therefore, the steps to sort `word_freq` by value are:\n",
    "\n",
    "1. Using `sorted` and `operator.itemgetter`, obtain a list of tuples of the dict key-value pairs which is sorted on the value.\n",
    "\n",
    "2. Create an empty dictionary named `word_freq2`.\n",
    "\n",
    "3. Iterate the list of tuples. Insert each key-value pair into `word_freq2` as an object.\n",
    "\n",
    "Print `word_freq2` to confirm your dictionary has its values sorted. Your output should be:\n",
    "\n",
    "```python\n",
    "{'conversation': 1, \"we're\": 1, 'plate': 1, 'sour': 1, 'jukebox': 1, 'taxi': 1, 'fast': 1, 'bag': 1, 'man': 1, 'going': 1, 'one': 1, 'backseat': 1, 'friends': 1, 'take': 1, 'play': 1, 'okay': 1, 'begin': 1, 'over': 1, 'just': 1, 'are': 1, 'tell': 1, 'drinking': 1, 'our': 1, 'where': 1, \"i'll\": 1, 'all': 1, \"isn't\": 1, 'make': 1, 'lover': 1, 'get': 1, 'radio': 1, 'give': 1, 'can': 1, 'club': 1, 'it': 1, 'out': 1, 'chance': 1, 'first': 1, 'table': 1, 'thrifty': 1, 'driver': 1, 'slow': 1, 'dance': 1, 'trust': 1, 'family': 1, 'week': 1, 'date': 1, 'leave': 1, 'at': 1, 'hand': 1, 'how': 1, 'eat': 1, 'about': 1, 'story': 1, 'sweet': 1, 'best': 1, 'let': 1, 'van': 1, 'shots': 1, 'place': 1, 'find': 1, 'kiss': 1, 'stop': 1, 'bar': 1, \"don't\": 2, 'mind': 2, 'know': 2, 'so': 2, 'start': 2, 'boy': 2, 'girl': 2, 'singing': 2, 'doing': 2, 'somebody': 2, 'handmade': 2, 'may': 2, 'that': 2, 'much': 2, 'grab': 2, 'was': 2, 'say': 2, 'waist': 2, 'want': 2, \"let's\": 2, 'not': 2, 'crazy': 2, 'go': 2, 'to': 2, 'fill': 2, 'hours': 2, 'push': 3, 'then': 3, 'put': 3, 'room': 3, 'magnet': 3, 'up': 3, 'pull': 3, 'last': 3, 'do': 3, 'smell': 3, 'although': 3, 'falling': 3, 'were': 3, 'night': 3, 'heart': 3, 'for': 3, 'bedsheets': 3, 'talk': 4, 'too': 5, 'is': 5, 'every': 6, 'new': 6, 'follow': 6, 'brand': 6, 'of': 6, 'i': 6, 'day': 6, 'lead': 6, 'shape': 6, 'discovering': 6, 'something': 6, 'we': 7, 'a': 8, 'like': 10, 'me': 10, 'now': 11, 'baby': 14, 'you': 16, 'be': 16, 'body': 17, 'the': 18, 'your': 21, 'with': 22, \"i'm\": 23, 'and': 23, 'love': 25, 'in': 27, 'my': 33, 'come': 37, 'on': 40}\n",
    "```"
   ]
  },
  {
   "cell_type": "code",
   "execution_count": 5,
   "id": "b7165b21",
   "metadata": {
    "id": "b7165b21"
   },
   "outputs": [
    {
     "name": "stdout",
     "output_type": "stream",
     "text": [
      "{'conversation': 1, \"we're\": 1, 'plate': 1, 'sour': 1, 'jukebox': 1, 'taxi': 1, 'fast': 1, 'bag': 1, 'man': 1, 'going': 1, 'one': 1, 'backseat': 1, 'friends': 1, 'take': 1, 'play': 1, 'okay': 1, 'begin': 1, 'over': 1, 'just': 1, 'are': 1, 'tell': 1, 'drinking': 1, 'our': 1, 'where': 1, \"i'll\": 1, 'all': 1, \"isn't\": 1, 'make': 1, 'lover': 1, 'get': 1, 'radio': 1, 'give': 1, 'can': 1, 'club': 1, 'it': 1, 'out': 1, 'chance': 1, 'first': 1, 'table': 1, 'thrifty': 1, 'driver': 1, 'slow': 1, 'dance': 1, 'trust': 1, 'family': 1, 'week': 1, 'date': 1, 'leave': 1, 'at': 1, 'hand': 1, 'how': 1, 'eat': 1, 'about': 1, 'story': 1, 'sweet': 1, 'best': 1, 'let': 1, 'van': 1, 'shots': 1, 'place': 1, 'find': 1, 'kiss': 1, 'stop': 1, 'bar': 1, \"don't\": 2, 'mind': 2, 'know': 2, 'so': 2, 'start': 2, 'boy': 2, 'girl': 2, 'singing': 2, 'doing': 2, 'somebody': 2, 'handmade': 2, 'may': 2, 'that': 2, 'much': 2, 'grab': 2, 'was': 2, 'say': 2, 'waist': 2, 'want': 2, \"let's\": 2, 'not': 2, 'crazy': 2, 'go': 2, 'to': 2, 'fill': 2, 'hours': 2, 'push': 3, 'then': 3, 'put': 3, 'room': 3, 'magnet': 3, 'up': 3, 'pull': 3, 'last': 3, 'do': 3, 'smell': 3, 'although': 3, 'falling': 3, 'were': 3, 'night': 3, 'heart': 3, 'for': 3, 'bedsheets': 3, 'talk': 4, 'too': 5, 'is': 5, 'every': 6, 'new': 6, 'follow': 6, 'brand': 6, 'of': 6, 'i': 6, 'day': 6, 'lead': 6, 'shape': 6, 'discovering': 6, 'something': 6, 'we': 7, 'a': 8, 'like': 10, 'me': 10, 'now': 11, 'baby': 14, 'you': 16, 'be': 16, 'body': 17, 'the': 18, 'your': 21, 'with': 22, \"i'm\": 23, 'and': 23, 'love': 25, 'in': 27, 'my': 33, 'come': 37, 'on': 40}\n"
     ]
    }
   ],
   "source": [
    "import operator\n",
    "sorted_tups = sorted(word_freq.items(), key=operator.itemgetter(1))\n",
    "sorted_tups= dict(sorted_tups)\n",
    "print(sorted_tups)"
   ]
  },
  {
   "cell_type": "code",
   "execution_count": null,
   "id": "03db6eb0",
   "metadata": {},
   "outputs": [],
   "source": []
  }
 ],
 "metadata": {
  "colab": {
   "provenance": []
  },
  "kernelspec": {
   "display_name": "Python 3.11.0 64-bit",
   "language": "python",
   "name": "python3"
  },
  "language_info": {
   "codemirror_mode": {
    "name": "ipython",
    "version": 3
   },
   "file_extension": ".py",
   "mimetype": "text/x-python",
   "name": "python",
   "nbconvert_exporter": "python",
   "pygments_lexer": "ipython3",
   "version": "3.11.0"
  },
  "vscode": {
   "interpreter": {
    "hash": "2469a70536e4d2335a2ea8907942d0699c37342a371ac185bdb5b0aa6f073890"
   }
  }
 },
 "nbformat": 4,
 "nbformat_minor": 5
}
