{
 "cells": [
  {
   "cell_type": "markdown",
   "metadata": {
    "id": "zkMQb-mwoUK0"
   },
   "source": [
    "## Data structures continued"
   ]
  },
  {
   "cell_type": "markdown",
   "metadata": {
    "id": "9YfyIIohoUK3"
   },
   "source": [
    "## Dictionaries "
   ]
  },
  {
   "cell_type": "markdown",
   "metadata": {
    "id": "GxegMXFKoUK4"
   },
   "source": [
    "Dictionaries are used to store data in key value pairs. You can think about the key in a dictionary as a key to a vault where the values are stored.   \n",
    "\n",
    "You can access the element/elements stored in the value by using the particular **key**.   \n",
    "\n",
    "**Curly braces** are used to define a dictionary. \n",
    "\n",
    "Different **key-value pairs are separated by commas**.\n",
    "\n",
    "<!-- We store the data behind the scenes in a hash map. This means that we use the key to generate a unique index (called a hash) and store the value in the location marked by that index. This makes retrieval very fast. -->"
   ]
  },
  {
   "cell_type": "code",
   "execution_count": null,
   "metadata": {
    "id": "APMix8WsoUK5"
   },
   "outputs": [],
   "source": [
    "contacts = {'John': '312-555-1234', 'Paul': '312-555-3123', 'George': '312-555-3333', 'Ringo': '312-555-2222'}"
   ]
  },
  {
   "cell_type": "code",
   "execution_count": null,
   "metadata": {
    "id": "Wkh8KJqvoUK7",
    "outputId": "a31de7a7-90c2-4660-90f0-077cf8cfd949"
   },
   "outputs": [
    {
     "data": {
      "text/plain": [
       "dict"
      ]
     },
     "execution_count": 2,
     "metadata": {},
     "output_type": "execute_result"
    }
   ],
   "source": [
    "type(contacts)"
   ]
  },
  {
   "cell_type": "markdown",
   "metadata": {
    "id": "Q5fzqBzeoUK7"
   },
   "source": [
    "Here we have defined a dictionary and we saved it in a variable named `contacts`.  \n",
    "\n",
    "A key-value pair is defined using a colon **`:`** - `key : value`.\n",
    "\n",
    "Different key value pairs here are: \n",
    "- \"John\" : \"312-555-1234\"\n",
    "- \"Paul\" : \"312-555-3123\" \n",
    "- \"George\" : \"312-555-3333\" \n",
    "- \"Ringo\" : \"312-555-2222\"\n",
    "\n",
    "All the **keys** in a dictionary **are always unique**, the *values can be repeated*."
   ]
  },
  {
   "cell_type": "markdown",
   "metadata": {
    "id": "7qrVRUs0oUK8"
   },
   "source": [
    "### Accessing values using the keys"
   ]
  },
  {
   "cell_type": "code",
   "execution_count": null,
   "metadata": {
    "id": "ATvBRikaoUK9",
    "outputId": "fce5d500-5b59-4709-f528-152a964acc37"
   },
   "outputs": [
    {
     "data": {
      "text/plain": [
       "'312-555-1234'"
      ]
     },
     "execution_count": 3,
     "metadata": {},
     "output_type": "execute_result"
    }
   ],
   "source": [
    "contacts['John']  # This is very similar to lists except that here we are using keys as indexes"
   ]
  },
  {
   "cell_type": "code",
   "execution_count": null,
   "metadata": {
    "id": "LCaLxXvWoUK-",
    "outputId": "4a5d5ccf-6295-45e3-f4be-0e3934fabfa9"
   },
   "outputs": [
    {
     "data": {
      "text/plain": [
       "'312-555-3123'"
      ]
     },
     "execution_count": 4,
     "metadata": {},
     "output_type": "execute_result"
    }
   ],
   "source": [
    "contacts['Paul']"
   ]
  },
  {
   "cell_type": "markdown",
   "metadata": {
    "id": "6npyYchloUK_"
   },
   "source": [
    "**Note:** The keys are case sensitive. For eg. if you use the following code, it will produce an error as shown:"
   ]
  },
  {
   "cell_type": "code",
   "execution_count": null,
   "metadata": {
    "id": "R0qDoPUsoUK_",
    "outputId": "a493acb6-9c5b-4f0a-b584-7835d95f08f2"
   },
   "outputs": [
    {
     "ename": "KeyError",
     "evalue": "'PAUL'",
     "output_type": "error",
     "traceback": [
      "\u001b[0;31m---------------------------------------------------------------------------\u001b[0m",
      "\u001b[0;31mKeyError\u001b[0m                                  Traceback (most recent call last)",
      "\u001b[0;32m<ipython-input-5-72754c72acff>\u001b[0m in \u001b[0;36m<module>\u001b[0;34m\u001b[0m\n\u001b[0;32m----> 1\u001b[0;31m \u001b[0mcontacts\u001b[0m\u001b[0;34m[\u001b[0m\u001b[0;34m'PAUL'\u001b[0m\u001b[0;34m]\u001b[0m\u001b[0;34m\u001b[0m\u001b[0;34m\u001b[0m\u001b[0m\n\u001b[0m",
      "\u001b[0;31mKeyError\u001b[0m: 'PAUL'"
     ]
    }
   ],
   "source": [
    "contacts['PAUL']"
   ]
  },
  {
   "cell_type": "markdown",
   "metadata": {
    "id": "ysvEElIpoULA"
   },
   "source": [
    "Check which keys are there in the dictionary using **`.keys()`** method."
   ]
  },
  {
   "cell_type": "code",
   "execution_count": null,
   "metadata": {
    "id": "DVvSUPV3oULB",
    "outputId": "42974345-39ef-4acc-b3df-502fc160dc9a"
   },
   "outputs": [
    {
     "data": {
      "text/plain": [
       "dict_keys(['John', 'Paul', 'George', 'Ringo'])"
      ]
     },
     "execution_count": 7,
     "metadata": {},
     "output_type": "execute_result"
    }
   ],
   "source": [
    "contacts.keys()"
   ]
  },
  {
   "cell_type": "markdown",
   "metadata": {
    "id": "B444fEaxoULC"
   },
   "source": [
    "Similarly we can also check the values in the dictionary using **`.values()`** mehod."
   ]
  },
  {
   "cell_type": "code",
   "execution_count": null,
   "metadata": {
    "id": "KUVRscaJoULC",
    "outputId": "c3977df6-aba1-427e-8cc5-b43c9e60ff34"
   },
   "outputs": [
    {
     "data": {
      "text/plain": [
       "dict_values(['312-555-1234', '312-555-3123', '312-555-3333', '312-555-2222'])"
      ]
     },
     "execution_count": 8,
     "metadata": {},
     "output_type": "execute_result"
    }
   ],
   "source": [
    "contacts.values()  # But this directly does not tell us to which keys are these values associated "
   ]
  },
  {
   "cell_type": "markdown",
   "metadata": {
    "id": "AjbhYvVUoULD"
   },
   "source": [
    "If you closely observe, the values in the above result are stored in square brackets. Hence, we can say that \n",
    "`contacts.values()` returns the output as a list."
   ]
  },
  {
   "cell_type": "markdown",
   "metadata": {
    "id": "aELtibICoULD"
   },
   "source": [
    "### Add new elements to a dictionary"
   ]
  },
  {
   "cell_type": "markdown",
   "metadata": {
    "id": "9ZSgrCY_oULD"
   },
   "source": [
    "To add new key-value pair in a dictionary, we use a very simple syntax.\n",
    "\n",
    "You have to give the name of the key in square brackets and then assign value to it:\n",
    "\n",
    "`<Name of dictionary>[<key>] = value`"
   ]
  },
  {
   "cell_type": "code",
   "execution_count": null,
   "metadata": {
    "id": "Xg0mw65WoULE"
   },
   "outputs": [],
   "source": [
    "contacts['Himanshu'] = '480-111-2222'  \n",
    "# It is important that the key has to be unique "
   ]
  },
  {
   "cell_type": "markdown",
   "metadata": {
    "id": "yDtr21GpoULE"
   },
   "source": [
    "In the previous example, the keys and values stored in the dictionary were only strings. But we can have any\n",
    "kind of data type for the keys and values."
   ]
  },
  {
   "cell_type": "code",
   "execution_count": null,
   "metadata": {
    "id": "9M7HIkb4oULE",
    "outputId": "b8da2fb3-8024-4ed3-ea0f-415064e9a219"
   },
   "outputs": [
    {
     "data": {
      "text/plain": [
       "'John'"
      ]
     },
     "execution_count": 10,
     "metadata": {},
     "output_type": "execute_result"
    }
   ],
   "source": [
    "student_names = {1: 'John', 2: 'Smith', 3: 'Matt', 4: 'Jimmy', 5: 'Sue'}\n",
    "student_names[1]"
   ]
  },
  {
   "cell_type": "code",
   "execution_count": null,
   "metadata": {
    "id": "cdn4HhM3oULF",
    "outputId": "f8eb1ada-1600-4a90-ab62-d390eee0e9f0"
   },
   "outputs": [
    {
     "data": {
      "text/plain": [
       "'Smith'"
      ]
     },
     "execution_count": 11,
     "metadata": {},
     "output_type": "execute_result"
    }
   ],
   "source": [
    "student_names[2]"
   ]
  },
  {
   "cell_type": "markdown",
   "metadata": {
    "id": "5WRjaOThoULF"
   },
   "source": [
    "The main idea here is that the values are identified in a dictionary using the keys. "
   ]
  },
  {
   "cell_type": "markdown",
   "metadata": {
    "id": "0bKgAwnooULG"
   },
   "source": [
    "Python is really powerful in the sense that it provides user the flexibility to create more complicated data structures. \n",
    "\n",
    "Values inside a dictionary can be lists or dictionaries itself (we call them *nested* dictionaries). We will look at some of those examples."
   ]
  },
  {
   "cell_type": "code",
   "execution_count": 4,
   "metadata": {
    "id": "3rseOoneoULG"
   },
   "outputs": [],
   "source": [
    "student_data = {\n",
    "    'Name': 'Himanshu', \n",
    "    'E-mail': 'himanshuagg@gmail.com', \n",
    "    'Age': 28, \n",
    "    'subjects': ['math', 'science', 'history', 'geography'] \n",
    "}"
   ]
  },
  {
   "cell_type": "code",
   "execution_count": 5,
   "metadata": {
    "id": "0RW4DzBPoULG",
    "outputId": "bc8cc44d-53e0-4a52-ee0e-ae72659c103c"
   },
   "outputs": [
    {
     "data": {
      "text/plain": [
       "dict_keys(['Name', 'E-mail', 'Age', 'subjects'])"
      ]
     },
     "execution_count": 5,
     "metadata": {},
     "output_type": "execute_result"
    }
   ],
   "source": [
    "student_data.keys()"
   ]
  },
  {
   "cell_type": "code",
   "execution_count": null,
   "metadata": {
    "id": "KYHATRHvoULH"
   },
   "outputs": [],
   "source": [
    "# We will again emphasize here that the keys are case sensitive "
   ]
  },
  {
   "cell_type": "code",
   "execution_count": null,
   "metadata": {
    "id": "wZJNzy95oULH",
    "outputId": "2bf9829f-86c3-4b36-aef8-5ff57d9acb04"
   },
   "outputs": [
    {
     "data": {
      "text/plain": [
       "'Himanshu'"
      ]
     },
     "execution_count": 16,
     "metadata": {},
     "output_type": "execute_result"
    }
   ],
   "source": [
    "student_data['Name']"
   ]
  },
  {
   "cell_type": "code",
   "execution_count": null,
   "metadata": {
    "id": "WgG-3dltoULH",
    "outputId": "be69c9ff-8806-4a78-8270-a0c58bcc1616"
   },
   "outputs": [
    {
     "data": {
      "text/plain": [
       "'himanshuagg@gmail.com'"
      ]
     },
     "execution_count": 17,
     "metadata": {},
     "output_type": "execute_result"
    }
   ],
   "source": [
    "student_data['E-mail']"
   ]
  },
  {
   "cell_type": "code",
   "execution_count": null,
   "metadata": {
    "id": "QgvB76TOoULH",
    "outputId": "1284e142-bbb3-4207-da8f-fc58bed35b9d"
   },
   "outputs": [
    {
     "data": {
      "text/plain": [
       "28"
      ]
     },
     "execution_count": 18,
     "metadata": {},
     "output_type": "execute_result"
    }
   ],
   "source": [
    "student_data['Age']"
   ]
  },
  {
   "cell_type": "code",
   "execution_count": null,
   "metadata": {
    "id": "V9QUT_CYoULO",
    "outputId": "39de4398-e244-466b-dc3a-7160db70977e"
   },
   "outputs": [
    {
     "data": {
      "text/plain": [
       "['math', 'science', 'history', 'geography']"
      ]
     },
     "execution_count": 19,
     "metadata": {},
     "output_type": "execute_result"
    }
   ],
   "source": [
    "student_data['subjects']"
   ]
  },
  {
   "cell_type": "markdown",
   "metadata": {
    "id": "EiZV58tooULO"
   },
   "source": [
    "**Note**: Value associated with the key 'subjects' is a list. The key uniquely identifies the value linked with the key, in this case a list. "
   ]
  },
  {
   "cell_type": "markdown",
   "metadata": {
    "id": "89z5M51xoULQ"
   },
   "source": [
    "According to this, if we want to access 'science', we need first to access the `subjects` key in the dictionary. Then, as the `value` is a list, we need to use the corresponding element of the list."
   ]
  },
  {
   "cell_type": "code",
   "execution_count": null,
   "metadata": {
    "id": "CurEQlD3oULQ",
    "outputId": "03be1caa-faae-408a-f77d-8f17b575258b"
   },
   "outputs": [
    {
     "data": {
      "text/plain": [
       "'science'"
      ]
     },
     "execution_count": 20,
     "metadata": {},
     "output_type": "execute_result"
    }
   ],
   "source": [
    "student_data['subjects'][1]"
   ]
  },
  {
   "cell_type": "markdown",
   "metadata": {
    "id": "tlrYwVzfoULR"
   },
   "source": [
    "### Exercises"
   ]
  },
  {
   "cell_type": "markdown",
   "metadata": {
    "id": "zTMQxOy2oULR"
   },
   "source": [
    "1. Use the dictionary given below. This is a dictionary that shows the frequency of the words in a text paragraph. The keys are the words, and the values are its frequency.\n"
   ]
  },
  {
   "cell_type": "code",
   "execution_count": null,
   "metadata": {
    "id": "7lL-3SenoULR"
   },
   "outputs": [],
   "source": [
    "word_freq = {\n",
    "  'love': 25,\n",
    "  'conversation': 1,\n",
    "  'every': 6,\n",
    "  \"we're\": 1,\n",
    "  'plate': 1,\n",
    "  'sour': 1,\n",
    "  'jukebox': 1,\n",
    "  'now': 11,\n",
    "  'taxi': 1,\n",
    "  'fast': 1,\n",
    "  'bag': 1,\n",
    "  'man': 1,\n",
    "  'push': 3,\n",
    "  'baby': 14,\n",
    "  'going': 1,\n",
    "  'you': 16,\n",
    "  \"don't\": 2,\n",
    "  'one': 1,\n",
    "  'mind': 2,\n",
    "  'backseat': 1,\n",
    "  'friends': 1,\n",
    "  'then': 3,\n",
    "  'know': 2\n",
    "}\n"
   ]
  },
  {
   "cell_type": "markdown",
   "metadata": {
    "id": "sOIjI5Y4oULR"
   },
   "source": [
    "Answer the following questions:   \n",
    "\n",
    "- How many *key-value* pairs are in this dictionary?\n",
    "- What *keys* are present in this dictionary? \n",
    "- What is the frequency of following words in the dictionary: \n",
    "    - 'friends'\n",
    "    - 'taxi' \n",
    "    - 'jukebox'\n",
    "- Is the word `begin` present in the dictionary?\n",
    "- Add the following words and their frequencies to the dictionary:\n",
    "        - 'begin': 1\n",
    "        - 'start': 2\n",
    "        - 'over': 1\n",
    "        - 'body': 17\n",
    "- Use the following code to convert the result from `word_freq.keys()` to a list: `list(word_freq.keys())`.\n",
    "  - Store the results of the above code in a variable called `word`.\n",
    "  - What is the first word in the dictionary? What is the frequency of that word?\n",
    "  - What is the last word in the dictionary? What is the frequency of that word?"
   ]
  },
  {
   "cell_type": "code",
   "execution_count": 39,
   "metadata": {
    "id": "nJdxh7QPoULR"
   },
   "outputs": [
    {
     "name": "stdout",
     "output_type": "stream",
     "text": [
      "La longitud del diccionario es de:  23\n",
      "La lista de las Keys es: \n",
      "dict_keys(['love', 'conversation', 'every', \"we're\", 'plate', 'sour', 'jukebox', 'now', 'taxi', 'fast', 'bag', 'man', 'push', 'baby', 'going', 'you', \"don't\", 'one', 'mind', 'backseat', 'friends', 'then', 'know'])\n",
      "Frecuencia de la palabra friends:  1\n",
      "Frecuencia de la palabra taxi:  1\n",
      "Frecuencia de la palabra jukebox:  1\n",
      "La palabra begin no está en el diccionario, este sería su forma de buscarlo , word_freq['begin']\n",
      "Añadiendo begin al diccionario...\n",
      "Añadiendo start al diccionario...\n",
      "Añadiendo over al diccionario...\n",
      "Añadiendo body al diccionario...\n",
      "\n",
      " {'love': 25, 'conversation': 1, 'every': 6, \"we're\": 1, 'plate': 1, 'sour': 1, 'jukebox': 1, 'now': 11, 'taxi': 1, 'fast': 1, 'bag': 1, 'man': 1, 'push': 3, 'baby': 14, 'going': 1, 'you': 16, \"don't\": 2, 'one': 1, 'mind': 2, 'backseat': 1, 'friends': 1, 'then': 3, 'know': 2, 'begin': 1, 'start': 2, 'over': 1, 'body': 17} \n",
      "\n",
      "Imprimiendo words como lista \n",
      "  ['love', 'conversation', 'every', \"we're\", 'plate', 'sour', 'jukebox', 'now', 'taxi', 'fast', 'bag', 'man', 'push', 'baby', 'going', 'you', \"don't\", 'one', 'mind', 'backseat', 'friends', 'then', 'know', 'begin', 'start', 'over', 'body'] \n",
      "\n",
      "Primera palabra del diccionario: love , frecuencia:  25\n",
      "Ultima palabra del diccionario: body , frecuencia:  17\n",
      "\n",
      " {'love': 25, 'conversation': 1, 'every': 6, \"we're\": 1, 'plate': 1, 'sour': 1, 'jukebox': 1, 'now': 11, 'taxi': 1, 'fast': 1, 'bag': 1, 'man': 1, 'push': 3, 'baby': 14, 'going': 1, 'you': 16, \"don't\": 2, 'one': 1, 'mind': 2, 'backseat': 1, 'friends': 1, 'then': 3, 'know': 2, 'begin': 1, 'start': 2, 'over': 1, 'body': 17} \n",
      "\n"
     ]
    }
   ],
   "source": [
    "word_freq = {\n",
    "  'love': 25,\n",
    "  'conversation': 1,\n",
    "  'every': 6,\n",
    "  \"we're\": 1,\n",
    "  'plate': 1,\n",
    "  'sour': 1,\n",
    "  'jukebox': 1,\n",
    "  'now': 11,\n",
    "  'taxi': 1,\n",
    "  'fast': 1,\n",
    "  'bag': 1,\n",
    "  'man': 1,\n",
    "  'push': 3,\n",
    "  'baby': 14,\n",
    "  'going': 1,\n",
    "  'you': 16,\n",
    "  \"don't\": 2,\n",
    "  'one': 1,\n",
    "  'mind': 2,\n",
    "  'backseat': 1,\n",
    "  'friends': 1,\n",
    "  'then': 3,\n",
    "  'know': 2\n",
    "}\n",
    "print(\"La longitud del diccionario es de: \", len(word_freq))\n",
    "print(\"La lista de las Keys es: \")\n",
    "print(word_freq.keys())\n",
    "print(\"Frecuencia de la palabra friends: \",word_freq['friends'])\n",
    "print(\"Frecuencia de la palabra taxi: \",word_freq['taxi'])\n",
    "print(\"Frecuencia de la palabra jukebox: \",word_freq['jukebox'])\n",
    "print(\"La palabra begin no está en el diccionario, este sería su forma de buscarlo , word_freq['begin']\")\n",
    "print(\"Añadiendo begin al diccionario...\")\n",
    "word_freq['begin'] = 1\n",
    "print(\"Añadiendo start al diccionario...\")\n",
    "word_freq['start'] = 2 \n",
    "print(\"Añadiendo over al diccionario...\")\n",
    "word_freq['over'] = 1 \n",
    "print(\"Añadiendo body al diccionario...\")\n",
    "word_freq['body'] = 17 \n",
    "\n",
    "print(\"\\n\",word_freq,\"\\n\")\n",
    "\n",
    "words = list(word_freq.keys())\n",
    "print(\"Imprimiendo words como lista \\n \",words, \"\\n\")\n",
    "print(\"Primera palabra del diccionario:\",words[0],\", frecuencia: \", word_freq[words[0]]) \n",
    "print(\"Ultima palabra del diccionario:\",words[len(words)-1] ,\", frecuencia: \", word_freq[words[len(words)-1]] )  \n",
    "\n",
    "\n",
    "\n"
   ]
  },
  {
   "cell_type": "markdown",
   "metadata": {
    "id": "pa3JfOdpoULR"
   },
   "source": [
    "2. Can a dictionary have two key-value pairs with the same key?"
   ]
  },
  {
   "cell_type": "code",
   "execution_count": null,
   "metadata": {
    "id": "EZzKFrbkoULS"
   },
   "outputs": [],
   "source": [
    "print(\"No, las keys no pueden ser iguales.\")"
   ]
  },
  {
   "cell_type": "markdown",
   "metadata": {
    "id": "9Wp9FxH7oULS"
   },
   "source": [
    "3. Can a dictionary have two key-value pairs with the same value but different keys?"
   ]
  },
  {
   "cell_type": "code",
   "execution_count": null,
   "metadata": {
    "id": "Bsin8EXjoULS"
   },
   "outputs": [],
   "source": [
    "print(\"Si, los valores asociados a esas keys se pueden repetir.\")# your answer here"
   ]
  },
  {
   "cell_type": "markdown",
   "metadata": {
    "id": "0nx7nOproULT"
   },
   "source": [
    "# Additional Content: Nested Dictionaries "
   ]
  },
  {
   "cell_type": "markdown",
   "metadata": {
    "id": "tWkdgoafoULT"
   },
   "source": [
    "Students will not be assesed on this. "
   ]
  },
  {
   "cell_type": "code",
   "execution_count": null,
   "metadata": {
    "id": "nmD1GAe8oULT"
   },
   "outputs": [],
   "source": [
    "contacts = {1: {'Name' : 'John' , 'Phone':'312-555-1234'},\n",
    "            2: {'Name' : 'Paul' , 'Phone':'312-555-3123'},\n",
    "            3: {'Name' : 'George' , 'Phone':'312-555-3333'},\n",
    "            4: {'Name' : 'Ringo' , 'Phone':'312-555-2222'}}"
   ]
  },
  {
   "cell_type": "code",
   "execution_count": null,
   "metadata": {
    "id": "OzkZntMQoULT",
    "outputId": "ea2715d5-e849-41b2-cbb4-aeb12af08885"
   },
   "outputs": [
    {
     "data": {
      "text/plain": [
       "dict"
      ]
     },
     "execution_count": 26,
     "metadata": {},
     "output_type": "execute_result"
    }
   ],
   "source": [
    "# In this case we have a dictionary as the values associated with the keys here. \n",
    "type(contacts)"
   ]
  },
  {
   "cell_type": "code",
   "execution_count": null,
   "metadata": {
    "id": "O28qupejoULU",
    "outputId": "a7cfc7ed-b6f0-4871-a318-538e78deb49e"
   },
   "outputs": [
    {
     "data": {
      "text/plain": [
       "{1: {'Name': 'John', 'Phone': '312-555-1234'},\n",
       " 2: {'Name': 'Paul', 'Phone': '312-555-3123'},\n",
       " 3: {'Name': 'George', 'Phone': '312-555-3333'},\n",
       " 4: {'Name': 'Ringo', 'Phone': '312-555-2222'}}"
      ]
     },
     "execution_count": 27,
     "metadata": {},
     "output_type": "execute_result"
    }
   ],
   "source": [
    "contacts"
   ]
  },
  {
   "cell_type": "code",
   "execution_count": null,
   "metadata": {
    "id": "vJ7j3rSEoULU",
    "outputId": "6283c018-ac2e-4243-b16b-f90b79334f2e"
   },
   "outputs": [
    {
     "data": {
      "text/plain": [
       "dict_keys([1, 2, 3, 4])"
      ]
     },
     "execution_count": 28,
     "metadata": {},
     "output_type": "execute_result"
    }
   ],
   "source": [
    "contacts.keys()"
   ]
  },
  {
   "cell_type": "code",
   "execution_count": null,
   "metadata": {
    "id": "8p0H7O6LoULV",
    "outputId": "64d53c8a-ccc1-4325-dfd4-d6ec4ba2131f"
   },
   "outputs": [
    {
     "data": {
      "text/plain": [
       "dict_values([{'Name': 'John', 'Phone': '312-555-1234'}, {'Name': 'Paul', 'Phone': '312-555-3123'}, {'Name': 'George', 'Phone': '312-555-3333'}, {'Name': 'Ringo', 'Phone': '312-555-2222'}])"
      ]
     },
     "execution_count": 29,
     "metadata": {},
     "output_type": "execute_result"
    }
   ],
   "source": [
    "contacts.values()"
   ]
  },
  {
   "cell_type": "code",
   "execution_count": null,
   "metadata": {
    "id": "XTkbexCooULV",
    "outputId": "4f3b041c-fde6-4389-f0ca-88950cfb2770"
   },
   "outputs": [
    {
     "name": "stdout",
     "output_type": "stream",
     "text": [
      "{'Name': 'John', 'Phone': '312-555-1234'}\n"
     ]
    }
   ],
   "source": [
    "print(contacts[1])"
   ]
  },
  {
   "cell_type": "markdown",
   "metadata": {
    "id": "0NUhIsdFoULW"
   },
   "source": [
    "As you can see, the `keys` of a dictionary can be either:\n",
    "\n",
    "- strings \n",
    "- numbers\n",
    "\n",
    "In this above example, the dictionary `keys` which are numbers. In this particular case, the `values` are also dictionaries."
   ]
  },
  {
   "cell_type": "code",
   "execution_count": null,
   "metadata": {
    "id": "TGAtZjZXoULW",
    "outputId": "924857bd-5dcf-4f4a-81f1-0e4566cf770c"
   },
   "outputs": [
    {
     "data": {
      "text/plain": [
       "dict_keys(['Name', 'Phone'])"
      ]
     },
     "execution_count": 31,
     "metadata": {},
     "output_type": "execute_result"
    }
   ],
   "source": [
    "contacts[1].keys()"
   ]
  },
  {
   "cell_type": "code",
   "execution_count": null,
   "metadata": {
    "id": "fYpRtNlZoULX",
    "outputId": "ac80161c-e3c5-4829-e86b-6e829aa6ef05"
   },
   "outputs": [
    {
     "data": {
      "text/plain": [
       "dict_values(['John', '312-555-1234'])"
      ]
     },
     "execution_count": 32,
     "metadata": {},
     "output_type": "execute_result"
    }
   ],
   "source": [
    "contacts[1].values()"
   ]
  },
  {
   "cell_type": "code",
   "execution_count": null,
   "metadata": {
    "id": "xuORF-MioULX",
    "outputId": "4c1315ed-9038-4b0c-c9c9-8c5b44b5e763"
   },
   "outputs": [
    {
     "data": {
      "text/plain": [
       "'John'"
      ]
     },
     "execution_count": 33,
     "metadata": {},
     "output_type": "execute_result"
    }
   ],
   "source": [
    "contacts[1]['Name']"
   ]
  },
  {
   "cell_type": "code",
   "execution_count": null,
   "metadata": {
    "id": "d0eP0HQroULX",
    "outputId": "7cbbe8d9-00a8-40c7-ffeb-ba49dee902dc"
   },
   "outputs": [
    {
     "data": {
      "text/plain": [
       "'312-555-1234'"
      ]
     },
     "execution_count": 34,
     "metadata": {},
     "output_type": "execute_result"
    }
   ],
   "source": [
    "contacts[1]['Phone']"
   ]
  },
  {
   "cell_type": "markdown",
   "metadata": {
    "id": "KBaMB2OCoULY"
   },
   "source": [
    "You can also have lists in which each element is a dictionary. Therefore the amount of possible combinations and levels of nesting is endless."
   ]
  },
  {
   "cell_type": "code",
   "execution_count": null,
   "metadata": {
    "id": "vVJnV-dPoULY",
    "outputId": "7746a708-02dd-4173-bb4e-dd78b7f8b670"
   },
   "outputs": [
    {
     "data": {
      "text/plain": [
       "[{'Mike': [25, 23000], 'Jane': [38, 40000], 'Bill': [45, 35000]},\n",
       " {'Developers': ['Mike', 'Bill']},\n",
       " {'HR': ['Jane']}]"
      ]
     },
     "execution_count": 35,
     "metadata": {},
     "output_type": "execute_result"
    }
   ],
   "source": [
    "my_data = [{'Mike': [25,23000],'Jane': [38, 40000],'Bill': [45,35000]},{'Developers': ['Mike','Bill']},{'HR': ['Jane']}]\n",
    "my_data"
   ]
  },
  {
   "cell_type": "markdown",
   "metadata": {
    "id": "uEmJWV85oULY"
   },
   "source": [
    "This is an example of a very nested list with three elements, each of them being a dictionary. In such cases, it is very important to know what you have in your hands. What type of variable is `my_data`?"
   ]
  },
  {
   "cell_type": "code",
   "execution_count": null,
   "metadata": {
    "id": "n9QSxHzCoULZ",
    "outputId": "977e7845-eb81-43e2-b0d2-db13592d4ea9"
   },
   "outputs": [
    {
     "data": {
      "text/plain": [
       "list"
      ]
     },
     "execution_count": 36,
     "metadata": {},
     "output_type": "execute_result"
    }
   ],
   "source": [
    "type(my_data)"
   ]
  },
  {
   "cell_type": "markdown",
   "metadata": {
    "id": "SR1GlU5hoULZ"
   },
   "source": [
    "Then let's access the first element of the list. As this is a **list**, we need to access by **index**."
   ]
  },
  {
   "cell_type": "code",
   "execution_count": null,
   "metadata": {
    "id": "IcKoxDT0oULZ",
    "outputId": "bc2596f9-e252-4a25-b060-5c045e64dd41"
   },
   "outputs": [
    {
     "data": {
      "text/plain": [
       "{'Mike': [25, 23000], 'Jane': [38, 40000], 'Bill': [45, 35000]}"
      ]
     },
     "execution_count": 37,
     "metadata": {},
     "output_type": "execute_result"
    }
   ],
   "source": [
    "my_data[0]"
   ]
  },
  {
   "cell_type": "markdown",
   "metadata": {
    "id": "PsphDFSVoULZ"
   },
   "source": [
    "This element is a dictionary as it can be clearly seen. In case of doubt we can use the function `type()`."
   ]
  },
  {
   "cell_type": "code",
   "execution_count": null,
   "metadata": {
    "id": "irTvjKOgoULZ",
    "outputId": "a90afa18-0632-4ce7-b563-8920ad19d075"
   },
   "outputs": [
    {
     "data": {
      "text/plain": [
       "dict"
      ]
     },
     "execution_count": 38,
     "metadata": {},
     "output_type": "execute_result"
    }
   ],
   "source": [
    "type(my_data[0])"
   ]
  },
  {
   "cell_type": "markdown",
   "metadata": {
    "id": "4ANfVf7soULa"
   },
   "source": [
    "Then let's access the data of 'Jane'. As this element is a **dictionary** we need to access by **key**."
   ]
  },
  {
   "cell_type": "code",
   "execution_count": null,
   "metadata": {
    "id": "yMhHZVZqoULa",
    "outputId": "65b4deec-a940-4330-894c-409091962271"
   },
   "outputs": [
    {
     "data": {
      "text/plain": [
       "[38, 40000]"
      ]
     },
     "execution_count": 39,
     "metadata": {},
     "output_type": "execute_result"
    }
   ],
   "source": [
    "my_data[0]['Jane']"
   ]
  },
  {
   "cell_type": "markdown",
   "metadata": {
    "id": "ihni4dU4oULb"
   },
   "source": [
    "In return, we are getting another **list**. To access the last element of this **list**, we need to access it by **index**."
   ]
  },
  {
   "cell_type": "code",
   "execution_count": null,
   "metadata": {
    "id": "jYF9cg3RoULb",
    "outputId": "e25813e2-34c7-4ca3-a4b6-77542cdaff28"
   },
   "outputs": [
    {
     "data": {
      "text/plain": [
       "40000"
      ]
     },
     "execution_count": 40,
     "metadata": {},
     "output_type": "execute_result"
    }
   ],
   "source": [
    "my_data[0]['Jane'][1]"
   ]
  },
  {
   "cell_type": "markdown",
   "metadata": {
    "id": "614xNXMUoULb"
   },
   "source": [
    "## Summary"
   ]
  },
  {
   "cell_type": "markdown",
   "metadata": {
    "id": "7JTgXrgDoULb"
   },
   "source": [
    "It is always crucial to know what kind of variable you have in your hands because this determines how to retrieve the data. \n",
    "\n",
    "- lists -> accessed by **index**\n",
    "- dictionaries -> accessed by **key** (misleadingly, the key can be a number but usually is a string)\n",
    "\n",
    "Lists are easily identified because they start and end with square brackets: `[ ]`\n",
    "\n",
    "In contrast, dictionaries start and end with curly brackets: `{ }`."
   ]
  }
 ],
 "metadata": {
  "colab": {
   "provenance": []
  },
  "kernelspec": {
   "display_name": "Python 3 (ipykernel)",
   "language": "python",
   "name": "python3"
  },
  "language_info": {
   "codemirror_mode": {
    "name": "ipython",
    "version": 3
   },
   "file_extension": ".py",
   "mimetype": "text/x-python",
   "name": "python",
   "nbconvert_exporter": "python",
   "pygments_lexer": "ipython3",
   "version": "3.9.12"
  }
 },
 "nbformat": 4,
 "nbformat_minor": 1
}
